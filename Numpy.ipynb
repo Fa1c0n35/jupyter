{
 "cells": [
  {
   "cell_type": "code",
   "execution_count": 0,
   "metadata": {
    "colab": {},
    "colab_type": "code",
    "id": "cLTa6XHJDvrJ"
   },
   "outputs": [],
   "source": [
    "import numpy as np"
   ]
  },
  {
   "cell_type": "code",
   "execution_count": 8,
   "metadata": {
    "colab": {
     "base_uri": "https://localhost:8080/",
     "height": 51
    },
    "colab_type": "code",
    "executionInfo": {
     "elapsed": 821,
     "status": "ok",
     "timestamp": 1536979885768,
     "user": {
      "displayName": "Songchai Duangpan",
      "photoUrl": "//lh4.googleusercontent.com/-85FetaNKwP0/AAAAAAAAAAI/AAAAAAAAAFo/HA-N0eFY9RY/s50-c-k-no/photo.jpg",
      "userId": "101210017961167957353"
     },
     "user_tz": -420
    },
    "id": "m_NerQs3D7Wa",
    "outputId": "3d7fa29b-ef98-4b21-c11e-e93ac0c976da"
   },
   "outputs": [
    {
     "name": "stdout",
     "output_type": "stream",
     "text": [
      "[0 1 2 3]\n",
      "1 (4,) 4\n"
     ]
    }
   ],
   "source": [
    "a = np.array([0,1,2,3,])\n",
    "print(a)\n",
    "print(a.ndim, a.shape, len(a))"
   ]
  },
  {
   "cell_type": "code",
   "execution_count": 9,
   "metadata": {
    "colab": {
     "base_uri": "https://localhost:8080/",
     "height": 68
    },
    "colab_type": "code",
    "executionInfo": {
     "elapsed": 813,
     "status": "ok",
     "timestamp": 1536979889875,
     "user": {
      "displayName": "Songchai Duangpan",
      "photoUrl": "//lh4.googleusercontent.com/-85FetaNKwP0/AAAAAAAAAAI/AAAAAAAAAFo/HA-N0eFY9RY/s50-c-k-no/photo.jpg",
      "userId": "101210017961167957353"
     },
     "user_tz": -420
    },
    "id": "m4PR0cfgEfS5",
    "outputId": "c0de9cb6-53b5-4ba0-e24d-3cb004c11b56"
   },
   "outputs": [
    {
     "name": "stdout",
     "output_type": "stream",
     "text": [
      "[[0 1 2]\n",
      " [3 4 5]]\n",
      "2 (2, 3) 2\n"
     ]
    }
   ],
   "source": [
    "b = np.array([[0,1,2],[3,4,5]])\n",
    "print (b)\n",
    "print(b.ndim, b.shape, len(b))"
   ]
  },
  {
   "cell_type": "code",
   "execution_count": 10,
   "metadata": {
    "colab": {
     "base_uri": "https://localhost:8080/",
     "height": 102
    },
    "colab_type": "code",
    "executionInfo": {
     "elapsed": 788,
     "status": "ok",
     "timestamp": 1536979892710,
     "user": {
      "displayName": "Songchai Duangpan",
      "photoUrl": "//lh4.googleusercontent.com/-85FetaNKwP0/AAAAAAAAAAI/AAAAAAAAAFo/HA-N0eFY9RY/s50-c-k-no/photo.jpg",
      "userId": "101210017961167957353"
     },
     "user_tz": -420
    },
    "id": "qv06vtXQGBMQ",
    "outputId": "80d66f71-2326-4cfb-e867-b696c6dc0fc0"
   },
   "outputs": [
    {
     "name": "stdout",
     "output_type": "stream",
     "text": [
      "[[[1]\n",
      "  [2]\n",
      "  [3]\n",
      "  [4]]]\n",
      "3 (1, 4, 1) 1\n"
     ]
    }
   ],
   "source": [
    "c = np.array([[[1],[2],[3],[4]]])\n",
    "print (c)\n",
    "print(c.ndim, c.shape, len(c))"
   ]
  },
  {
   "cell_type": "code",
   "execution_count": 11,
   "metadata": {
    "colab": {
     "base_uri": "https://localhost:8080/",
     "height": 34
    },
    "colab_type": "code",
    "executionInfo": {
     "elapsed": 915,
     "status": "ok",
     "timestamp": 1536979896141,
     "user": {
      "displayName": "Songchai Duangpan",
      "photoUrl": "//lh4.googleusercontent.com/-85FetaNKwP0/AAAAAAAAAAI/AAAAAAAAAFo/HA-N0eFY9RY/s50-c-k-no/photo.jpg",
      "userId": "101210017961167957353"
     },
     "user_tz": -420
    },
    "id": "9nXyMK33HBTa",
    "outputId": "cfb9103b-a206-4ee6-da73-1cdbada50dee"
   },
   "outputs": [
    {
     "data": {
      "text/plain": [
       "array([0, 1, 2, 3])"
      ]
     },
     "execution_count": 11,
     "metadata": {
      "tags": []
     },
     "output_type": "execute_result"
    }
   ],
   "source": [
    "d = np.arange(4)\n",
    "d"
   ]
  },
  {
   "cell_type": "code",
   "execution_count": 12,
   "metadata": {
    "colab": {
     "base_uri": "https://localhost:8080/",
     "height": 34
    },
    "colab_type": "code",
    "executionInfo": {
     "elapsed": 788,
     "status": "ok",
     "timestamp": 1536979898976,
     "user": {
      "displayName": "Songchai Duangpan",
      "photoUrl": "//lh4.googleusercontent.com/-85FetaNKwP0/AAAAAAAAAAI/AAAAAAAAAFo/HA-N0eFY9RY/s50-c-k-no/photo.jpg",
      "userId": "101210017961167957353"
     },
     "user_tz": -420
    },
    "id": "s8TYb7AJHNfz",
    "outputId": "d301e82a-9185-44db-d022-f4ea47656f44"
   },
   "outputs": [
    {
     "data": {
      "text/plain": [
       "array([0, 2, 4, 6])"
      ]
     },
     "execution_count": 12,
     "metadata": {
      "tags": []
     },
     "output_type": "execute_result"
    }
   ],
   "source": [
    "d+a"
   ]
  },
  {
   "cell_type": "code",
   "execution_count": 3,
   "metadata": {
    "colab": {
     "base_uri": "https://localhost:8080/",
     "height": 34
    },
    "colab_type": "code",
    "executionInfo": {
     "elapsed": 813,
     "status": "ok",
     "timestamp": 1536979749341,
     "user": {
      "displayName": "Songchai Duangpan",
      "photoUrl": "//lh4.googleusercontent.com/-85FetaNKwP0/AAAAAAAAAAI/AAAAAAAAAFo/HA-N0eFY9RY/s50-c-k-no/photo.jpg",
      "userId": "101210017961167957353"
     },
     "user_tz": -420
    },
    "id": "YWSCq_7SHdjZ",
    "outputId": "214c6c05-2a2a-4297-e3a8-143c8a69c9b0"
   },
   "outputs": [
    {
     "data": {
      "text/plain": [
       "array([1, 3, 5, 7])"
      ]
     },
     "execution_count": 3,
     "metadata": {
      "tags": []
     },
     "output_type": "execute_result"
    }
   ],
   "source": [
    "np.arange(1,9,2)"
   ]
  },
  {
   "cell_type": "code",
   "execution_count": 4,
   "metadata": {
    "colab": {
     "base_uri": "https://localhost:8080/",
     "height": 51
    },
    "colab_type": "code",
    "executionInfo": {
     "elapsed": 894,
     "status": "ok",
     "timestamp": 1536979801203,
     "user": {
      "displayName": "Songchai Duangpan",
      "photoUrl": "//lh4.googleusercontent.com/-85FetaNKwP0/AAAAAAAAAAI/AAAAAAAAAFo/HA-N0eFY9RY/s50-c-k-no/photo.jpg",
      "userId": "101210017961167957353"
     },
     "user_tz": -420
    },
    "id": "18VAZaB2IXr-",
    "outputId": "f5acdc66-cceb-42f3-c48a-1d3c3a9f1640"
   },
   "outputs": [
    {
     "data": {
      "text/plain": [
       "array([0.        , 0.16666667, 0.33333333, 0.5       , 0.66666667,\n",
       "       0.83333333])"
      ]
     },
     "execution_count": 4,
     "metadata": {
      "tags": []
     },
     "output_type": "execute_result"
    }
   ],
   "source": [
    "np.linspace(0,1,6,endpoint = False)"
   ]
  },
  {
   "cell_type": "code",
   "execution_count": 6,
   "metadata": {
    "colab": {
     "base_uri": "https://localhost:8080/",
     "height": 68
    },
    "colab_type": "code",
    "executionInfo": {
     "elapsed": 811,
     "status": "ok",
     "timestamp": 1536979834763,
     "user": {
      "displayName": "Songchai Duangpan",
      "photoUrl": "//lh4.googleusercontent.com/-85FetaNKwP0/AAAAAAAAAAI/AAAAAAAAAFo/HA-N0eFY9RY/s50-c-k-no/photo.jpg",
      "userId": "101210017961167957353"
     },
     "user_tz": -420
    },
    "id": "zqx39MZhIpCT",
    "outputId": "2fb8a5cb-39a5-42a8-9ec2-cb5538c43a12"
   },
   "outputs": [
    {
     "data": {
      "text/plain": [
       "array([[1., 1., 1.],\n",
       "       [1., 1., 1.],\n",
       "       [1., 1., 1.]])"
      ]
     },
     "execution_count": 6,
     "metadata": {
      "tags": []
     },
     "output_type": "execute_result"
    }
   ],
   "source": [
    "np.ones((3,3))"
   ]
  },
  {
   "cell_type": "code",
   "execution_count": 7,
   "metadata": {
    "colab": {
     "base_uri": "https://localhost:8080/",
     "height": 102
    },
    "colab_type": "code",
    "executionInfo": {
     "elapsed": 949,
     "status": "ok",
     "timestamp": 1536979855372,
     "user": {
      "displayName": "Songchai Duangpan",
      "photoUrl": "//lh4.googleusercontent.com/-85FetaNKwP0/AAAAAAAAAAI/AAAAAAAAAFo/HA-N0eFY9RY/s50-c-k-no/photo.jpg",
      "userId": "101210017961167957353"
     },
     "user_tz": -420
    },
    "id": "42_ywdGnIuIm",
    "outputId": "7dd7cf3b-2721-4278-c9fd-bdebbc4dfed1"
   },
   "outputs": [
    {
     "data": {
      "text/plain": [
       "array([[[1., 1., 1.],\n",
       "        [1., 1., 1.]],\n",
       "\n",
       "       [[1., 1., 1.],\n",
       "        [1., 1., 1.]]])"
      ]
     },
     "execution_count": 7,
     "metadata": {
      "tags": []
     },
     "output_type": "execute_result"
    }
   ],
   "source": [
    "np.ones((2,2,3))"
   ]
  },
  {
   "cell_type": "code",
   "execution_count": 13,
   "metadata": {
    "colab": {
     "base_uri": "https://localhost:8080/",
     "height": 51
    },
    "colab_type": "code",
    "executionInfo": {
     "elapsed": 948,
     "status": "ok",
     "timestamp": 1536979930976,
     "user": {
      "displayName": "Songchai Duangpan",
      "photoUrl": "//lh4.googleusercontent.com/-85FetaNKwP0/AAAAAAAAAAI/AAAAAAAAAFo/HA-N0eFY9RY/s50-c-k-no/photo.jpg",
      "userId": "101210017961167957353"
     },
     "user_tz": -420
    },
    "id": "ld9FL2DqI2P_",
    "outputId": "81a3d871-8be0-4cd0-f485-14689f31b588"
   },
   "outputs": [
    {
     "data": {
      "text/plain": [
       "array([[0., 0.],\n",
       "       [0., 0.]])"
      ]
     },
     "execution_count": 13,
     "metadata": {
      "tags": []
     },
     "output_type": "execute_result"
    }
   ],
   "source": [
    "np.zeros((2,2))"
   ]
  },
  {
   "cell_type": "code",
   "execution_count": 14,
   "metadata": {
    "colab": {
     "base_uri": "https://localhost:8080/",
     "height": 187
    },
    "colab_type": "code",
    "executionInfo": {
     "elapsed": 930,
     "status": "ok",
     "timestamp": 1536979949715,
     "user": {
      "displayName": "Songchai Duangpan",
      "photoUrl": "//lh4.googleusercontent.com/-85FetaNKwP0/AAAAAAAAAAI/AAAAAAAAAFo/HA-N0eFY9RY/s50-c-k-no/photo.jpg",
      "userId": "101210017961167957353"
     },
     "user_tz": -420
    },
    "id": "RiNAeDwIJItT",
    "outputId": "de6c4aff-0167-45cf-fa51-cdd68181f626"
   },
   "outputs": [
    {
     "data": {
      "text/plain": [
       "array([[1., 0., 0., 0., 0., 0., 0., 0., 0., 0.],\n",
       "       [0., 1., 0., 0., 0., 0., 0., 0., 0., 0.],\n",
       "       [0., 0., 1., 0., 0., 0., 0., 0., 0., 0.],\n",
       "       [0., 0., 0., 1., 0., 0., 0., 0., 0., 0.],\n",
       "       [0., 0., 0., 0., 1., 0., 0., 0., 0., 0.],\n",
       "       [0., 0., 0., 0., 0., 1., 0., 0., 0., 0.],\n",
       "       [0., 0., 0., 0., 0., 0., 1., 0., 0., 0.],\n",
       "       [0., 0., 0., 0., 0., 0., 0., 1., 0., 0.],\n",
       "       [0., 0., 0., 0., 0., 0., 0., 0., 1., 0.],\n",
       "       [0., 0., 0., 0., 0., 0., 0., 0., 0., 1.]])"
      ]
     },
     "execution_count": 14,
     "metadata": {
      "tags": []
     },
     "output_type": "execute_result"
    }
   ],
   "source": [
    "np.eye(10)"
   ]
  },
  {
   "cell_type": "code",
   "execution_count": 15,
   "metadata": {
    "colab": {
     "base_uri": "https://localhost:8080/",
     "height": 119
    },
    "colab_type": "code",
    "executionInfo": {
     "elapsed": 733,
     "status": "ok",
     "timestamp": 1536979999700,
     "user": {
      "displayName": "Songchai Duangpan",
      "photoUrl": "//lh4.googleusercontent.com/-85FetaNKwP0/AAAAAAAAAAI/AAAAAAAAAFo/HA-N0eFY9RY/s50-c-k-no/photo.jpg",
      "userId": "101210017961167957353"
     },
     "user_tz": -420
    },
    "id": "jGgVU1OEJNSN",
    "outputId": "c1ac1353-8969-4cb2-fe0b-0489c8ba4079"
   },
   "outputs": [
    {
     "data": {
      "text/plain": [
       "array([[1, 0, 0, 0, 0, 0],\n",
       "       [0, 2, 0, 0, 0, 0],\n",
       "       [0, 0, 3, 0, 0, 0],\n",
       "       [0, 0, 0, 4, 0, 0],\n",
       "       [0, 0, 0, 0, 5, 0],\n",
       "       [0, 0, 0, 0, 0, 6]])"
      ]
     },
     "execution_count": 15,
     "metadata": {
      "tags": []
     },
     "output_type": "execute_result"
    }
   ],
   "source": [
    "np.diag(np.array([1,2,3,4,5,6]))"
   ]
  },
  {
   "cell_type": "code",
   "execution_count": 16,
   "metadata": {
    "colab": {
     "base_uri": "https://localhost:8080/",
     "height": 68
    },
    "colab_type": "code",
    "executionInfo": {
     "elapsed": 721,
     "status": "ok",
     "timestamp": 1536980133201,
     "user": {
      "displayName": "Songchai Duangpan",
      "photoUrl": "//lh4.googleusercontent.com/-85FetaNKwP0/AAAAAAAAAAI/AAAAAAAAAFo/HA-N0eFY9RY/s50-c-k-no/photo.jpg",
      "userId": "101210017961167957353"
     },
     "user_tz": -420
    },
    "id": "uMqlpP9KJZid",
    "outputId": "2287cb61-60e0-472f-ab72-c27181f7855f"
   },
   "outputs": [
    {
     "data": {
      "text/plain": [
       "array([ 1.26068244e-01, -7.74175718e-01, -9.50564574e-05,  1.83546873e-01,\n",
       "       -6.99911433e-01,  1.91418589e-01, -1.27204336e+00, -6.65318969e-02,\n",
       "        2.32074493e-01, -5.47246526e-01])"
      ]
     },
     "execution_count": 16,
     "metadata": {
      "tags": []
     },
     "output_type": "execute_result"
    }
   ],
   "source": [
    "np.random.randn(10)"
   ]
  },
  {
   "cell_type": "code",
   "execution_count": 17,
   "metadata": {
    "colab": {
     "base_uri": "https://localhost:8080/",
     "height": 51
    },
    "colab_type": "code",
    "executionInfo": {
     "elapsed": 720,
     "status": "ok",
     "timestamp": 1536980153375,
     "user": {
      "displayName": "Songchai Duangpan",
      "photoUrl": "//lh4.googleusercontent.com/-85FetaNKwP0/AAAAAAAAAAI/AAAAAAAAAFo/HA-N0eFY9RY/s50-c-k-no/photo.jpg",
      "userId": "101210017961167957353"
     },
     "user_tz": -420
    },
    "id": "nEnz4Ab3J6Ii",
    "outputId": "616bda2c-84f8-4825-f0dd-b9547f3f4108"
   },
   "outputs": [
    {
     "data": {
      "text/plain": [
       "array([0.66379881, 0.54092282, 0.34635498, 0.89939694, 0.1057338 ,\n",
       "       0.69786108, 0.36556258, 0.64569145, 0.96845359, 0.77652188])"
      ]
     },
     "execution_count": 17,
     "metadata": {
      "tags": []
     },
     "output_type": "execute_result"
    }
   ],
   "source": [
    "np.random.rand(10)"
   ]
  },
  {
   "cell_type": "code",
   "execution_count": 18,
   "metadata": {
    "colab": {
     "base_uri": "https://localhost:8080/",
     "height": 34
    },
    "colab_type": "code",
    "executionInfo": {
     "elapsed": 750,
     "status": "ok",
     "timestamp": 1536980254568,
     "user": {
      "displayName": "Songchai Duangpan",
      "photoUrl": "//lh4.googleusercontent.com/-85FetaNKwP0/AAAAAAAAAAI/AAAAAAAAAFo/HA-N0eFY9RY/s50-c-k-no/photo.jpg",
      "userId": "101210017961167957353"
     },
     "user_tz": -420
    },
    "id": "E9-1AIVZJ_Dh",
    "outputId": "ad8d6397-f6a7-4d89-a4b5-b0aeb42c2322"
   },
   "outputs": [
    {
     "data": {
      "text/plain": [
       "dtype('int64')"
      ]
     },
     "execution_count": 18,
     "metadata": {
      "tags": []
     },
     "output_type": "execute_result"
    }
   ],
   "source": [
    "a.dtype"
   ]
  },
  {
   "cell_type": "code",
   "execution_count": 19,
   "metadata": {
    "colab": {
     "base_uri": "https://localhost:8080/",
     "height": 34
    },
    "colab_type": "code",
    "executionInfo": {
     "elapsed": 753,
     "status": "ok",
     "timestamp": 1536980312745,
     "user": {
      "displayName": "Songchai Duangpan",
      "photoUrl": "//lh4.googleusercontent.com/-85FetaNKwP0/AAAAAAAAAAI/AAAAAAAAAFo/HA-N0eFY9RY/s50-c-k-no/photo.jpg",
      "userId": "101210017961167957353"
     },
     "user_tz": -420
    },
    "id": "aVOsOc83KXwk",
    "outputId": "0f51d9ea-3708-4f17-8354-e8879aed9fac"
   },
   "outputs": [
    {
     "data": {
      "text/plain": [
       "dtype('float64')"
      ]
     },
     "execution_count": 19,
     "metadata": {
      "tags": []
     },
     "output_type": "execute_result"
    }
   ],
   "source": [
    "np.ones(1).dtype"
   ]
  },
  {
   "cell_type": "code",
   "execution_count": 21,
   "metadata": {
    "colab": {
     "base_uri": "https://localhost:8080/",
     "height": 34
    },
    "colab_type": "code",
    "executionInfo": {
     "elapsed": 780,
     "status": "ok",
     "timestamp": 1536980556030,
     "user": {
      "displayName": "Songchai Duangpan",
      "photoUrl": "//lh4.googleusercontent.com/-85FetaNKwP0/AAAAAAAAAAI/AAAAAAAAAFo/HA-N0eFY9RY/s50-c-k-no/photo.jpg",
      "userId": "101210017961167957353"
     },
     "user_tz": -420
    },
    "id": "ZaQnSSNIKl9a",
    "outputId": "4efec413-c8b5-40ce-b6c8-293dc74cc3cb"
   },
   "outputs": [
    {
     "data": {
      "text/plain": [
       "dtype('bool')"
      ]
     },
     "execution_count": 21,
     "metadata": {
      "tags": []
     },
     "output_type": "execute_result"
    }
   ],
   "source": [
    "np.array([True,False]).dtype"
   ]
  },
  {
   "cell_type": "code",
   "execution_count": 27,
   "metadata": {
    "colab": {
     "base_uri": "https://localhost:8080/",
     "height": 346
    },
    "colab_type": "code",
    "executionInfo": {
     "elapsed": 1159,
     "status": "ok",
     "timestamp": 1536980774236,
     "user": {
      "displayName": "Songchai Duangpan",
      "photoUrl": "//lh4.googleusercontent.com/-85FetaNKwP0/AAAAAAAAAAI/AAAAAAAAAFo/HA-N0eFY9RY/s50-c-k-no/photo.jpg",
      "userId": "101210017961167957353"
     },
     "user_tz": -420
    },
    "id": "7yf-4tEYLaEn",
    "outputId": "c358e45b-741d-4333-a9c7-2bb941ec1e18"
   },
   "outputs": [
    {
     "data": {
      "image/png": "[encoded data removed]",
      "text/plain": [
       "<matplotlib.figure.Figure at 0x7fe602e2aa58>"
      ]
     },
     "metadata": {
      "tags": []
     },
     "output_type": "display_data"
    }
   ],
   "source": [
    "import matplotlib.pyplot as plt\n",
    "\n",
    "x = np.linspace(0,3,20)\n",
    "y = np.linspace(0,9,20)\n",
    "\n",
    "plt.plot(x,y,'o')\n",
    "plt.plot(x,y)\n",
    "plt.show()"
   ]
  },
  {
   "cell_type": "code",
   "execution_count": 31,
   "metadata": {
    "colab": {
     "base_uri": "https://localhost:8080/",
     "height": 417
    },
    "colab_type": "code",
    "executionInfo": {
     "elapsed": 968,
     "status": "ok",
     "timestamp": 1536980936746,
     "user": {
      "displayName": "Songchai Duangpan",
      "photoUrl": "//lh4.googleusercontent.com/-85FetaNKwP0/AAAAAAAAAAI/AAAAAAAAAFo/HA-N0eFY9RY/s50-c-k-no/photo.jpg",
      "userId": "101210017961167957353"
     },
     "user_tz": -420
    },
    "id": "gmXwx9AdL63P",
    "outputId": "3e0e649a-b404-4418-f74e-4694e0b905a8"
   },
   "outputs": [
    {
     "name": "stdout",
     "output_type": "stream",
     "text": [
      "[0.         0.15723948 0.310567   0.45616793 0.59041986 0.70998273\n",
      " 0.81188195 0.89358235 0.95305133 0.98880935 0.99996678 0.98624604\n",
      " 0.9479885  0.88614595 0.80225698 0.69840866 0.57718464 0.44160084\n",
      " 0.29503045 0.14112001]\n"
     ]
    },
    {
     "data": {
      "image/png": "[encoded data removed]",
      "text/plain": [
       "<matplotlib.figure.Figure at 0x7fe602d9ca58>"
      ]
     },
     "metadata": {
      "tags": []
     },
     "output_type": "display_data"
    }
   ],
   "source": [
    "import matplotlib.pyplot as plt\n",
    "\n",
    "x = np.linspace(0,3,20)\n",
    "#y = np.linspace(0,9,20)\n",
    "y = np.sin(x)\n",
    "\n",
    "print (y)\n",
    "plt.plot(x,y)\n",
    "#plt.plot(x,y)\n",
    "plt.show()"
   ]
  },
  {
   "cell_type": "code",
   "execution_count": 33,
   "metadata": {
    "colab": {
     "base_uri": "https://localhost:8080/",
     "height": 417
    },
    "colab_type": "code",
    "executionInfo": {
     "elapsed": 805,
     "status": "ok",
     "timestamp": 1536981028836,
     "user": {
      "displayName": "Songchai Duangpan",
      "photoUrl": "//lh4.googleusercontent.com/-85FetaNKwP0/AAAAAAAAAAI/AAAAAAAAAFo/HA-N0eFY9RY/s50-c-k-no/photo.jpg",
      "userId": "101210017961167957353"
     },
     "user_tz": -420
    },
    "id": "ON-lXFQnMzI6",
    "outputId": "4686cef2-68b7-4da1-f153-634f5f42abac"
   },
   "outputs": [
    {
     "name": "stdout",
     "output_type": "stream",
     "text": [
      "[0.         0.02493075 0.09972299 0.22437673 0.39889197 0.6232687\n",
      " 0.89750693 1.22160665 1.59556787 2.01939058 2.49307479 3.0166205\n",
      " 3.5900277  4.2132964  4.88642659 5.60941828 6.38227147 7.20498615\n",
      " 8.07756233 9.        ]\n"
     ]
    },
    {
     "data": {
      "image/png": "[encoded data removed]",
      "text/plain": [
       "<matplotlib.figure.Figure at 0x7fe605755e80>"
      ]
     },
     "metadata": {
      "tags": []
     },
     "output_type": "display_data"
    }
   ],
   "source": [
    "import matplotlib.pyplot as plt\n",
    "\n",
    "x = np.linspace(0,3,20)\n",
    "y = np.power(x,2)\n",
    "\n",
    "print (y)\n",
    "plt.plot(x,y)\n",
    "#plt.plot(x,y)\n",
    "plt.show()"
   ]
  },
  {
   "cell_type": "code",
   "execution_count": 46,
   "metadata": {
    "colab": {
     "base_uri": "https://localhost:8080/",
     "height": 506
    },
    "colab_type": "code",
    "executionInfo": {
     "elapsed": 810,
     "status": "ok",
     "timestamp": 1536981702353,
     "user": {
      "displayName": "Songchai Duangpan",
      "photoUrl": "//lh4.googleusercontent.com/-85FetaNKwP0/AAAAAAAAAAI/AAAAAAAAAFo/HA-N0eFY9RY/s50-c-k-no/photo.jpg",
      "userId": "101210017961167957353"
     },
     "user_tz": -420
    },
    "id": "2oh7092BNNTT",
    "outputId": "e9faf977-601c-49f7-bbbd-15703c1d2d73"
   },
   "outputs": [
    {
     "name": "stdout",
     "output_type": "stream",
     "text": [
      "[-2.         -1.91836735 -1.83673469 -1.75510204 -1.67346939 -1.59183673\n",
      " -1.51020408 -1.42857143 -1.34693878 -1.26530612 -1.18367347 -1.10204082\n",
      " -1.02040816 -0.93877551 -0.85714286 -0.7755102  -0.69387755 -0.6122449\n",
      " -0.53061224 -0.44897959 -0.36734694 -0.28571429 -0.20408163 -0.12244898\n",
      " -0.04081633  0.04081633  0.12244898  0.20408163  0.28571429  0.36734694\n",
      "  0.44897959  0.53061224  0.6122449   0.69387755  0.7755102   0.85714286\n",
      "  0.93877551  1.02040816  1.10204082  1.18367347  1.26530612  1.34693878\n",
      "  1.42857143  1.51020408  1.59183673  1.67346939  1.75510204  1.83673469\n",
      "  1.91836735  2.        ]\n"
     ]
    },
    {
     "data": {
      "image/png": "[encoded data removed]",
      "text/plain": [
       "<matplotlib.figure.Figure at 0x7fe602a439b0>"
      ]
     },
     "metadata": {
      "tags": []
     },
     "output_type": "display_data"
    }
   ],
   "source": [
    "import matplotlib.pyplot as plt\n",
    "\n",
    "x = np.linspace(-2,2)\n",
    "y = np.power(x,2)\n",
    "\n",
    "print (x)\n",
    "plt.plot(x,y)\n",
    "plt.show()"
   ]
  },
  {
   "cell_type": "code",
   "execution_count": 47,
   "metadata": {
    "colab": {
     "base_uri": "https://localhost:8080/",
     "height": 34
    },
    "colab_type": "code",
    "executionInfo": {
     "elapsed": 1023,
     "status": "ok",
     "timestamp": 1536981767247,
     "user": {
      "displayName": "Songchai Duangpan",
      "photoUrl": "//lh4.googleusercontent.com/-85FetaNKwP0/AAAAAAAAAAI/AAAAAAAAAFo/HA-N0eFY9RY/s50-c-k-no/photo.jpg",
      "userId": "101210017961167957353"
     },
     "user_tz": -420
    },
    "id": "viRV3CdBNxfa",
    "outputId": "cf0337aa-3ffc-4e6e-9d19-979cfe7a056b"
   },
   "outputs": [
    {
     "data": {
      "text/plain": [
       "array([1, 2, 3, 4])"
      ]
     },
     "execution_count": 47,
     "metadata": {
      "tags": []
     },
     "output_type": "execute_result"
    }
   ],
   "source": [
    "a+1"
   ]
  },
  {
   "cell_type": "code",
   "execution_count": 56,
   "metadata": {
    "colab": {
     "base_uri": "https://localhost:8080/",
     "height": 346
    },
    "colab_type": "code",
    "executionInfo": {
     "elapsed": 833,
     "status": "ok",
     "timestamp": 1536982052588,
     "user": {
      "displayName": "Songchai Duangpan",
      "photoUrl": "//lh4.googleusercontent.com/-85FetaNKwP0/AAAAAAAAAAI/AAAAAAAAAFo/HA-N0eFY9RY/s50-c-k-no/photo.jpg",
      "userId": "101210017961167957353"
     },
     "user_tz": -420
    },
    "id": "-NuhxjoPOtfE",
    "outputId": "f77e8f19-c577-47c0-86cb-b9df0c019a6d"
   },
   "outputs": [
    {
     "data": {
      "image/png": "[encoded data removed]",
      "text/plain": [
       "<matplotlib.figure.Figure at 0x7fe602b49c88>"
      ]
     },
     "metadata": {
      "tags": []
     },
     "output_type": "display_data"
    }
   ],
   "source": [
    "import matplotlib.pyplot as plt\n",
    "\n",
    "x = np.linspace(0,2)\n",
    "y = np.power(x,2)\n",
    "\n",
    "\n",
    "\n",
    "plt.plot(x,y)\n",
    "plt.show()"
   ]
  },
  {
   "cell_type": "code",
   "execution_count": 57,
   "metadata": {
    "colab": {
     "base_uri": "https://localhost:8080/",
     "height": 34
    },
    "colab_type": "code",
    "executionInfo": {
     "elapsed": 932,
     "status": "ok",
     "timestamp": 1536982131793,
     "user": {
      "displayName": "Songchai Duangpan",
      "photoUrl": "//lh4.googleusercontent.com/-85FetaNKwP0/AAAAAAAAAAI/AAAAAAAAAFo/HA-N0eFY9RY/s50-c-k-no/photo.jpg",
      "userId": "101210017961167957353"
     },
     "user_tz": -420
    },
    "id": "C3kMD3YWQV3U",
    "outputId": "ea127a9b-1ecf-49be-e63b-0711fef8efe1"
   },
   "outputs": [
    {
     "data": {
      "text/plain": [
       "array([ 1,  4,  9, 16])"
      ]
     },
     "execution_count": 57,
     "metadata": {
      "tags": []
     },
     "output_type": "execute_result"
    }
   ],
   "source": [
    "a*a + 2*a +1"
   ]
  },
  {
   "cell_type": "code",
   "execution_count": 0,
   "metadata": {
    "colab": {},
    "colab_type": "code",
    "id": "vpJG0a1IRiBN"
   },
   "outputs": [],
   "source": [
    "c = np.ones((3,3))"
   ]
  },
  {
   "cell_type": "code",
   "execution_count": 62,
   "metadata": {
    "colab": {
     "base_uri": "https://localhost:8080/",
     "height": 70
    },
    "colab_type": "code",
    "executionInfo": {
     "elapsed": 745,
     "status": "ok",
     "timestamp": 1536982235636,
     "user": {
      "displayName": "Songchai Duangpan",
      "photoUrl": "//lh4.googleusercontent.com/-85FetaNKwP0/AAAAAAAAAAI/AAAAAAAAAFo/HA-N0eFY9RY/s50-c-k-no/photo.jpg",
      "userId": "101210017961167957353"
     },
     "user_tz": -420
    },
    "id": "uHAR1q6zRvx6",
    "outputId": "e346be85-6d36-47d9-a97d-3b1bc0006e7a"
   },
   "outputs": [
    {
     "data": {
      "text/plain": [
       "array([[3., 3., 3.],\n",
       "       [3., 3., 3.],\n",
       "       [3., 3., 3.]])"
      ]
     },
     "execution_count": 62,
     "metadata": {
      "tags": []
     },
     "output_type": "execute_result"
    }
   ],
   "source": [
    "c.dot(c)"
   ]
  },
  {
   "cell_type": "code",
   "execution_count": 0,
   "metadata": {
    "colab": {},
    "colab_type": "code",
    "id": "-vZeg34nR7as"
   },
   "outputs": [],
   "source": [
    "a = np.array([1,2,3,4])\n",
    "b = np.array([4,2,2,4])\n",
    "c = np.array([1,2,3,4])"
   ]
  },
  {
   "cell_type": "code",
   "execution_count": 71,
   "metadata": {
    "colab": {
     "base_uri": "https://localhost:8080/",
     "height": 34
    },
    "colab_type": "code",
    "executionInfo": {
     "elapsed": 795,
     "status": "ok",
     "timestamp": 1536982491141,
     "user": {
      "displayName": "Songchai Duangpan",
      "photoUrl": "//lh4.googleusercontent.com/-85FetaNKwP0/AAAAAAAAAAI/AAAAAAAAAFo/HA-N0eFY9RY/s50-c-k-no/photo.jpg",
      "userId": "101210017961167957353"
     },
     "user_tz": -420
    },
    "id": "qpxRhYNVSVbv",
    "outputId": "7af05967-bdb4-48af-e1e0-288f98ed616b"
   },
   "outputs": [
    {
     "data": {
      "text/plain": [
       "array([False, False,  True, False])"
      ]
     },
     "execution_count": 71,
     "metadata": {
      "tags": []
     },
     "output_type": "execute_result"
    }
   ],
   "source": [
    "a > b"
   ]
  },
  {
   "cell_type": "code",
   "execution_count": 72,
   "metadata": {
    "colab": {
     "base_uri": "https://localhost:8080/",
     "height": 34
    },
    "colab_type": "code",
    "executionInfo": {
     "elapsed": 962,
     "status": "ok",
     "timestamp": 1536982499871,
     "user": {
      "displayName": "Songchai Duangpan",
      "photoUrl": "//lh4.googleusercontent.com/-85FetaNKwP0/AAAAAAAAAAI/AAAAAAAAAFo/HA-N0eFY9RY/s50-c-k-no/photo.jpg",
      "userId": "101210017961167957353"
     },
     "user_tz": -420
    },
    "id": "01xFIZ5FSWyP",
    "outputId": "ec16b9d4-fad4-41bb-a5e9-a3b10b4adcb4"
   },
   "outputs": [
    {
     "data": {
      "text/plain": [
       "array([ True,  True,  True,  True])"
      ]
     },
     "execution_count": 72,
     "metadata": {
      "tags": []
     },
     "output_type": "execute_result"
    }
   ],
   "source": [
    "a <= c"
   ]
  },
  {
   "cell_type": "code",
   "execution_count": 73,
   "metadata": {
    "colab": {
     "base_uri": "https://localhost:8080/",
     "height": 34
    },
    "colab_type": "code",
    "executionInfo": {
     "elapsed": 738,
     "status": "ok",
     "timestamp": 1536982518682,
     "user": {
      "displayName": "Songchai Duangpan",
      "photoUrl": "//lh4.googleusercontent.com/-85FetaNKwP0/AAAAAAAAAAI/AAAAAAAAAFo/HA-N0eFY9RY/s50-c-k-no/photo.jpg",
      "userId": "101210017961167957353"
     },
     "user_tz": -420
    },
    "id": "fawDf2qgS74H",
    "outputId": "9c6c96c4-6122-4c57-814e-0aaec826d5a9"
   },
   "outputs": [
    {
     "data": {
      "text/plain": [
       "False"
      ]
     },
     "execution_count": 73,
     "metadata": {
      "tags": []
     },
     "output_type": "execute_result"
    }
   ],
   "source": [
    "np.array_equal(a,b)"
   ]
  },
  {
   "cell_type": "code",
   "execution_count": 74,
   "metadata": {
    "colab": {
     "base_uri": "https://localhost:8080/",
     "height": 34
    },
    "colab_type": "code",
    "executionInfo": {
     "elapsed": 757,
     "status": "ok",
     "timestamp": 1536982541048,
     "user": {
      "displayName": "Songchai Duangpan",
      "photoUrl": "//lh4.googleusercontent.com/-85FetaNKwP0/AAAAAAAAAAI/AAAAAAAAAFo/HA-N0eFY9RY/s50-c-k-no/photo.jpg",
      "userId": "101210017961167957353"
     },
     "user_tz": -420
    },
    "id": "N4LUd7vJTAhd",
    "outputId": "0b615b5d-cf0c-4789-c7da-577165626830"
   },
   "outputs": [
    {
     "data": {
      "text/plain": [
       "True"
      ]
     },
     "execution_count": 74,
     "metadata": {
      "tags": []
     },
     "output_type": "execute_result"
    }
   ],
   "source": [
    "np.array_equal(a,c)"
   ]
  },
  {
   "cell_type": "code",
   "execution_count": 0,
   "metadata": {
    "colab": {},
    "colab_type": "code",
    "id": "xPFWZ0f2TF-h"
   },
   "outputs": [],
   "source": [
    "a =np.diag(np.arange(3))"
   ]
  },
  {
   "cell_type": "code",
   "execution_count": 76,
   "metadata": {
    "colab": {
     "base_uri": "https://localhost:8080/",
     "height": 70
    },
    "colab_type": "code",
    "executionInfo": {
     "elapsed": 747,
     "status": "ok",
     "timestamp": 1536982734800,
     "user": {
      "displayName": "Songchai Duangpan",
      "photoUrl": "//lh4.googleusercontent.com/-85FetaNKwP0/AAAAAAAAAAI/AAAAAAAAAFo/HA-N0eFY9RY/s50-c-k-no/photo.jpg",
      "userId": "101210017961167957353"
     },
     "user_tz": -420
    },
    "id": "7aRIRG1xT0Xy",
    "outputId": "994d5604-afa2-4f84-c32a-eabbc4189b3b"
   },
   "outputs": [
    {
     "data": {
      "text/plain": [
       "array([[0, 0, 0],\n",
       "       [0, 1, 0],\n",
       "       [0, 0, 2]])"
      ]
     },
     "execution_count": 76,
     "metadata": {
      "tags": []
     },
     "output_type": "execute_result"
    }
   ],
   "source": [
    "a"
   ]
  },
  {
   "cell_type": "code",
   "execution_count": 78,
   "metadata": {
    "colab": {
     "base_uri": "https://localhost:8080/",
     "height": 70
    },
    "colab_type": "code",
    "executionInfo": {
     "elapsed": 816,
     "status": "ok",
     "timestamp": 1536982747932,
     "user": {
      "displayName": "Songchai Duangpan",
      "photoUrl": "//lh4.googleusercontent.com/-85FetaNKwP0/AAAAAAAAAAI/AAAAAAAAAFo/HA-N0eFY9RY/s50-c-k-no/photo.jpg",
      "userId": "101210017961167957353"
     },
     "user_tz": -420
    },
    "id": "vHG2cpzIT1SJ",
    "outputId": "479dd24a-84a8-4ec5-f80e-1840580b9a4c"
   },
   "outputs": [
    {
     "name": "stdout",
     "output_type": "stream",
     "text": [
      "[[0 0 0]\n",
      " [0 1 0]\n",
      " [0 0 2]]\n"
     ]
    }
   ],
   "source": [
    "print (a)"
   ]
  },
  {
   "cell_type": "code",
   "execution_count": 80,
   "metadata": {
    "colab": {
     "base_uri": "https://localhost:8080/",
     "height": 34
    },
    "colab_type": "code",
    "executionInfo": {
     "elapsed": 780,
     "status": "ok",
     "timestamp": 1536982773687,
     "user": {
      "displayName": "Songchai Duangpan",
      "photoUrl": "//lh4.googleusercontent.com/-85FetaNKwP0/AAAAAAAAAAI/AAAAAAAAAFo/HA-N0eFY9RY/s50-c-k-no/photo.jpg",
      "userId": "101210017961167957353"
     },
     "user_tz": -420
    },
    "id": "V2VRW2CtT3Xa",
    "outputId": "640f762b-1a46-4b57-91a5-3c8ddcecf2c0"
   },
   "outputs": [
    {
     "data": {
      "text/plain": [
       "(1, 0)"
      ]
     },
     "execution_count": 80,
     "metadata": {
      "tags": []
     },
     "output_type": "execute_result"
    }
   ],
   "source": [
    "a[1,1],a[2,1]"
   ]
  },
  {
   "cell_type": "code",
   "execution_count": 81,
   "metadata": {
    "colab": {
     "base_uri": "https://localhost:8080/",
     "height": 34
    },
    "colab_type": "code",
    "executionInfo": {
     "elapsed": 932,
     "status": "ok",
     "timestamp": 1536982801812,
     "user": {
      "displayName": "Songchai Duangpan",
      "photoUrl": "//lh4.googleusercontent.com/-85FetaNKwP0/AAAAAAAAAAI/AAAAAAAAAFo/HA-N0eFY9RY/s50-c-k-no/photo.jpg",
      "userId": "101210017961167957353"
     },
     "user_tz": -420
    },
    "id": "wJm0aki5T8Vn",
    "outputId": "a0cf0716-dd37-4201-fcba-9d269dfb3322"
   },
   "outputs": [
    {
     "data": {
      "text/plain": [
       "(0, array([0, 1, 0]))"
      ]
     },
     "execution_count": 81,
     "metadata": {
      "tags": []
     },
     "output_type": "execute_result"
    }
   ],
   "source": [
    "a[2,1],(a[1])"
   ]
  },
  {
   "cell_type": "code",
   "execution_count": 83,
   "metadata": {
    "colab": {
     "base_uri": "https://localhost:8080/",
     "height": 34
    },
    "colab_type": "code",
    "executionInfo": {
     "elapsed": 796,
     "status": "ok",
     "timestamp": 1536982836100,
     "user": {
      "displayName": "Songchai Duangpan",
      "photoUrl": "//lh4.googleusercontent.com/-85FetaNKwP0/AAAAAAAAAAI/AAAAAAAAAFo/HA-N0eFY9RY/s50-c-k-no/photo.jpg",
      "userId": "101210017961167957353"
     },
     "user_tz": -420
    },
    "id": "ASPvFcN5UFmL",
    "outputId": "42ad8861-0d9e-42c4-8f76-1575d36e552f"
   },
   "outputs": [
    {
     "name": "stdout",
     "output_type": "stream",
     "text": [
      "[0 1 0]\n"
     ]
    }
   ],
   "source": [
    "print (a[1])"
   ]
  },
  {
   "cell_type": "code",
   "execution_count": 84,
   "metadata": {
    "colab": {
     "base_uri": "https://localhost:8080/",
     "height": 34
    },
    "colab_type": "code",
    "executionInfo": {
     "elapsed": 726,
     "status": "ok",
     "timestamp": 1536982845528,
     "user": {
      "displayName": "Songchai Duangpan",
      "photoUrl": "//lh4.googleusercontent.com/-85FetaNKwP0/AAAAAAAAAAI/AAAAAAAAAFo/HA-N0eFY9RY/s50-c-k-no/photo.jpg",
      "userId": "101210017961167957353"
     },
     "user_tz": -420
    },
    "id": "IPjfTsAFULmn",
    "outputId": "937b1962-c7d6-4f7e-fabd-b59ce5654d1f"
   },
   "outputs": [
    {
     "name": "stdout",
     "output_type": "stream",
     "text": [
      "[0 0 2]\n"
     ]
    }
   ],
   "source": [
    "print (a[2])"
   ]
  },
  {
   "cell_type": "code",
   "execution_count": 85,
   "metadata": {
    "colab": {
     "base_uri": "https://localhost:8080/",
     "height": 34
    },
    "colab_type": "code",
    "executionInfo": {
     "elapsed": 969,
     "status": "ok",
     "timestamp": 1536982859553,
     "user": {
      "displayName": "Songchai Duangpan",
      "photoUrl": "//lh4.googleusercontent.com/-85FetaNKwP0/AAAAAAAAAAI/AAAAAAAAAFo/HA-N0eFY9RY/s50-c-k-no/photo.jpg",
      "userId": "101210017961167957353"
     },
     "user_tz": -420
    },
    "id": "cJkSeflPUQUf",
    "outputId": "82b1fb77-1e39-4e12-d9f2-c1de6146a129"
   },
   "outputs": [
    {
     "name": "stdout",
     "output_type": "stream",
     "text": [
      "[[0 0 0]]\n"
     ]
    }
   ],
   "source": [
    "print (a[:1])"
   ]
  },
  {
   "cell_type": "code",
   "execution_count": 0,
   "metadata": {
    "colab": {},
    "colab_type": "code",
    "id": "RWUjuNXqUTro"
   },
   "outputs": [],
   "source": [
    "a = np.arange(36).reshape(6,6)"
   ]
  },
  {
   "cell_type": "code",
   "execution_count": 88,
   "metadata": {
    "colab": {
     "base_uri": "https://localhost:8080/",
     "height": 123
    },
    "colab_type": "code",
    "executionInfo": {
     "elapsed": 896,
     "status": "ok",
     "timestamp": 1536982987510,
     "user": {
      "displayName": "Songchai Duangpan",
      "photoUrl": "//lh4.googleusercontent.com/-85FetaNKwP0/AAAAAAAAAAI/AAAAAAAAAFo/HA-N0eFY9RY/s50-c-k-no/photo.jpg",
      "userId": "101210017961167957353"
     },
     "user_tz": -420
    },
    "id": "mrivlECrUulQ",
    "outputId": "46c02994-467f-4dcb-d01a-6af2c27d014f"
   },
   "outputs": [
    {
     "data": {
      "text/plain": [
       "array([[ 0,  1,  2,  3,  4,  5],\n",
       "       [ 6,  7,  8,  9, 10, 11],\n",
       "       [12, 13, 14, 15, 16, 17],\n",
       "       [18, 19, 20, 21, 22, 23],\n",
       "       [24, 25, 26, 27, 28, 29],\n",
       "       [30, 31, 32, 33, 34, 35]])"
      ]
     },
     "execution_count": 88,
     "metadata": {
      "tags": []
     },
     "output_type": "execute_result"
    }
   ],
   "source": [
    "a"
   ]
  },
  {
   "cell_type": "code",
   "execution_count": 89,
   "metadata": {
    "colab": {
     "base_uri": "https://localhost:8080/",
     "height": 34
    },
    "colab_type": "code",
    "executionInfo": {
     "elapsed": 754,
     "status": "ok",
     "timestamp": 1536983002628,
     "user": {
      "displayName": "Songchai Duangpan",
      "photoUrl": "//lh4.googleusercontent.com/-85FetaNKwP0/AAAAAAAAAAI/AAAAAAAAAFo/HA-N0eFY9RY/s50-c-k-no/photo.jpg",
      "userId": "101210017961167957353"
     },
     "user_tz": -420
    },
    "id": "4qprdFQ6Uy8U",
    "outputId": "6d063684-9b2c-4ff8-bffe-6fddcba449cf"
   },
   "outputs": [
    {
     "data": {
      "text/plain": [
       "array([3, 4])"
      ]
     },
     "execution_count": 89,
     "metadata": {
      "tags": []
     },
     "output_type": "execute_result"
    }
   ],
   "source": [
    "a[0,3:5]"
   ]
  },
  {
   "cell_type": "code",
   "execution_count": 90,
   "metadata": {
    "colab": {
     "base_uri": "https://localhost:8080/",
     "height": 52
    },
    "colab_type": "code",
    "executionInfo": {
     "elapsed": 999,
     "status": "ok",
     "timestamp": 1536983080180,
     "user": {
      "displayName": "Songchai Duangpan",
      "photoUrl": "//lh4.googleusercontent.com/-85FetaNKwP0/AAAAAAAAAAI/AAAAAAAAAFo/HA-N0eFY9RY/s50-c-k-no/photo.jpg",
      "userId": "101210017961167957353"
     },
     "user_tz": -420
    },
    "id": "wCsEiDLhU2qx",
    "outputId": "0988519f-aff0-4abf-d843-9657bc2cbd7a"
   },
   "outputs": [
    {
     "data": {
      "text/plain": [
       "array([[28, 29],\n",
       "       [34, 35]])"
      ]
     },
     "execution_count": 90,
     "metadata": {
      "tags": []
     },
     "output_type": "execute_result"
    }
   ],
   "source": [
    "a[4:,4:]"
   ]
  },
  {
   "cell_type": "code",
   "execution_count": 91,
   "metadata": {
    "colab": {
     "base_uri": "https://localhost:8080/",
     "height": 87
    },
    "colab_type": "code",
    "executionInfo": {
     "elapsed": 935,
     "status": "ok",
     "timestamp": 1536983149571,
     "user": {
      "displayName": "Songchai Duangpan",
      "photoUrl": "//lh4.googleusercontent.com/-85FetaNKwP0/AAAAAAAAAAI/AAAAAAAAAFo/HA-N0eFY9RY/s50-c-k-no/photo.jpg",
      "userId": "101210017961167957353"
     },
     "user_tz": -420
    },
    "id": "ca4OsJ2cVJie",
    "outputId": "80cbd926-e44e-4f5c-a6ff-2ef3bdea388e"
   },
   "outputs": [
    {
     "data": {
      "text/plain": [
       "array([[14, 15, 16, 17],\n",
       "       [20, 21, 22, 23],\n",
       "       [26, 27, 28, 29],\n",
       "       [32, 33, 34, 35]])"
      ]
     },
     "execution_count": 91,
     "metadata": {
      "tags": []
     },
     "output_type": "execute_result"
    }
   ],
   "source": [
    "a[2:,2:]"
   ]
  },
  {
   "cell_type": "code",
   "execution_count": 93,
   "metadata": {
    "colab": {
     "base_uri": "https://localhost:8080/",
     "height": 34
    },
    "colab_type": "code",
    "executionInfo": {
     "elapsed": 951,
     "status": "ok",
     "timestamp": 1536983177166,
     "user": {
      "displayName": "Songchai Duangpan",
      "photoUrl": "//lh4.googleusercontent.com/-85FetaNKwP0/AAAAAAAAAAI/AAAAAAAAAFo/HA-N0eFY9RY/s50-c-k-no/photo.jpg",
      "userId": "101210017961167957353"
     },
     "user_tz": -420
    },
    "id": "ljJo7dhtVaf4",
    "outputId": "90eda22c-830f-4d97-b69c-eaa23e75a596"
   },
   "outputs": [
    {
     "data": {
      "text/plain": [
       "array([ 2,  8, 14, 20, 26, 32])"
      ]
     },
     "execution_count": 93,
     "metadata": {
      "tags": []
     },
     "output_type": "execute_result"
    }
   ],
   "source": [
    "a[:,2]"
   ]
  },
  {
   "cell_type": "code",
   "execution_count": 94,
   "metadata": {
    "colab": {
     "base_uri": "https://localhost:8080/",
     "height": 123
    },
    "colab_type": "code",
    "executionInfo": {
     "elapsed": 784,
     "status": "ok",
     "timestamp": 1536983243819,
     "user": {
      "displayName": "Songchai Duangpan",
      "photoUrl": "//lh4.googleusercontent.com/-85FetaNKwP0/AAAAAAAAAAI/AAAAAAAAAFo/HA-N0eFY9RY/s50-c-k-no/photo.jpg",
      "userId": "101210017961167957353"
     },
     "user_tz": -420
    },
    "id": "f6YurNrgVe7H",
    "outputId": "7e44e9e4-5d21-4177-e182-1ef4c56cc1a3"
   },
   "outputs": [
    {
     "data": {
      "text/plain": [
       "array([[ 0,  1,  2,  3,  4,  5],\n",
       "       [ 6,  7,  8,  9, 10, 11],\n",
       "       [12, 13, 14, 15, 16, 17],\n",
       "       [18, 19, 20, 21, 22, 23],\n",
       "       [24, 25, 26, 27, 28, 29],\n",
       "       [30, 31, 32, 33, 34, 35]])"
      ]
     },
     "execution_count": 94,
     "metadata": {
      "tags": []
     },
     "output_type": "execute_result"
    }
   ],
   "source": [
    "a"
   ]
  },
  {
   "cell_type": "code",
   "execution_count": 150,
   "metadata": {
    "colab": {
     "base_uri": "https://localhost:8080/",
     "height": 123
    },
    "colab_type": "code",
    "executionInfo": {
     "elapsed": 764,
     "status": "ok",
     "timestamp": 1536983876055,
     "user": {
      "displayName": "Songchai Duangpan",
      "photoUrl": "//lh4.googleusercontent.com/-85FetaNKwP0/AAAAAAAAAAI/AAAAAAAAAFo/HA-N0eFY9RY/s50-c-k-no/photo.jpg",
      "userId": "101210017961167957353"
     },
     "user_tz": -420
    },
    "id": "1pa37Nl0Vxiq",
    "outputId": "d9b84b7c-10cf-40b7-9e08-9cac86cbd03b"
   },
   "outputs": [
    {
     "data": {
      "text/plain": [
       "array([[ 0,  2,  4],\n",
       "       [ 6,  8, 10],\n",
       "       [12, 14, 16],\n",
       "       [18, 20, 22],\n",
       "       [24, 26, 28],\n",
       "       [30, 32, 34]])"
      ]
     },
     "execution_count": 150,
     "metadata": {
      "tags": []
     },
     "output_type": "execute_result"
    }
   ],
   "source": [
    "a[:,0::2]"
   ]
  },
  {
   "cell_type": "code",
   "execution_count": 155,
   "metadata": {
    "colab": {
     "base_uri": "https://localhost:8080/",
     "height": 70
    },
    "colab_type": "code",
    "executionInfo": {
     "elapsed": 776,
     "status": "ok",
     "timestamp": 1536984021868,
     "user": {
      "displayName": "Songchai Duangpan",
      "photoUrl": "//lh4.googleusercontent.com/-85FetaNKwP0/AAAAAAAAAAI/AAAAAAAAAFo/HA-N0eFY9RY/s50-c-k-no/photo.jpg",
      "userId": "101210017961167957353"
     },
     "user_tz": -420
    },
    "id": "TzJVxBrrWBVu",
    "outputId": "90e855db-4d47-4db5-ff37-95faaa991a42"
   },
   "outputs": [
    {
     "data": {
      "text/plain": [
       "array([[ 0,  1,  2,  3,  4,  5],\n",
       "       [12, 13, 14, 15, 16, 17],\n",
       "       [24, 25, 26, 27, 28, 29]])"
      ]
     },
     "execution_count": 155,
     "metadata": {
      "tags": []
     },
     "output_type": "execute_result"
    }
   ],
   "source": [
    "a[0::2,:]"
   ]
  },
  {
   "cell_type": "code",
   "execution_count": 156,
   "metadata": {
    "colab": {
     "base_uri": "https://localhost:8080/",
     "height": 123
    },
    "colab_type": "code",
    "executionInfo": {
     "elapsed": 883,
     "status": "ok",
     "timestamp": 1536984085552,
     "user": {
      "displayName": "Songchai Duangpan",
      "photoUrl": "//lh4.googleusercontent.com/-85FetaNKwP0/AAAAAAAAAAI/AAAAAAAAAFo/HA-N0eFY9RY/s50-c-k-no/photo.jpg",
      "userId": "101210017961167957353"
     },
     "user_tz": -420
    },
    "id": "8oRGpdWDYbGN",
    "outputId": "45d65baa-6054-4b9d-bb7a-c5a769bf9b93"
   },
   "outputs": [
    {
     "data": {
      "text/plain": [
       "array([[ 0,  2,  4],\n",
       "       [ 6,  8, 10],\n",
       "       [12, 14, 16],\n",
       "       [18, 20, 22],\n",
       "       [24, 26, 28],\n",
       "       [30, 32, 34]])"
      ]
     },
     "execution_count": 156,
     "metadata": {
      "tags": []
     },
     "output_type": "execute_result"
    }
   ],
   "source": [
    "a[::,::2]"
   ]
  },
  {
   "cell_type": "code",
   "execution_count": 159,
   "metadata": {
    "colab": {
     "base_uri": "https://localhost:8080/",
     "height": 34
    },
    "colab_type": "code",
    "executionInfo": {
     "elapsed": 921,
     "status": "ok",
     "timestamp": 1536984137254,
     "user": {
      "displayName": "Songchai Duangpan",
      "photoUrl": "//lh4.googleusercontent.com/-85FetaNKwP0/AAAAAAAAAAI/AAAAAAAAAFo/HA-N0eFY9RY/s50-c-k-no/photo.jpg",
      "userId": "101210017961167957353"
     },
     "user_tz": -420
    },
    "id": "nLlOe3ZXY_BN",
    "outputId": "9964f36f-02b2-45ec-afad-4fe674d7b6b6"
   },
   "outputs": [
    {
     "data": {
      "text/plain": [
       "array([0, 1, 2, 3, 4, 5, 6, 7, 8, 9])"
      ]
     },
     "execution_count": 159,
     "metadata": {
      "tags": []
     },
     "output_type": "execute_result"
    }
   ],
   "source": [
    "a = np.arange(10)\n",
    "a"
   ]
  },
  {
   "cell_type": "code",
   "execution_count": 160,
   "metadata": {
    "colab": {
     "base_uri": "https://localhost:8080/",
     "height": 34
    },
    "colab_type": "code",
    "executionInfo": {
     "elapsed": 903,
     "status": "ok",
     "timestamp": 1536984159169,
     "user": {
      "displayName": "Songchai Duangpan",
      "photoUrl": "//lh4.googleusercontent.com/-85FetaNKwP0/AAAAAAAAAAI/AAAAAAAAAFo/HA-N0eFY9RY/s50-c-k-no/photo.jpg",
      "userId": "101210017961167957353"
     },
     "user_tz": -420
    },
    "id": "YW526UY3ZIrr",
    "outputId": "680b20cc-41d4-4525-d8dd-02d8c94c0b5a"
   },
   "outputs": [
    {
     "data": {
      "text/plain": [
       "array([0, 2, 4, 6, 8])"
      ]
     },
     "execution_count": 160,
     "metadata": {
      "tags": []
     },
     "output_type": "execute_result"
    }
   ],
   "source": [
    "b = a[::2]\n",
    "b"
   ]
  },
  {
   "cell_type": "code",
   "execution_count": 0,
   "metadata": {
    "colab": {},
    "colab_type": "code",
    "id": "49Ywx1DLZQ_N"
   },
   "outputs": [],
   "source": [
    "b[0] = 99"
   ]
  },
  {
   "cell_type": "code",
   "execution_count": 163,
   "metadata": {
    "colab": {
     "base_uri": "https://localhost:8080/",
     "height": 34
    },
    "colab_type": "code",
    "executionInfo": {
     "elapsed": 748,
     "status": "ok",
     "timestamp": 1536984194014,
     "user": {
      "displayName": "Songchai Duangpan",
      "photoUrl": "//lh4.googleusercontent.com/-85FetaNKwP0/AAAAAAAAAAI/AAAAAAAAAFo/HA-N0eFY9RY/s50-c-k-no/photo.jpg",
      "userId": "101210017961167957353"
     },
     "user_tz": -420
    },
    "id": "GR1OBO6wZVwn",
    "outputId": "c88a9fdf-ecbb-4a88-f20c-0085977124c0"
   },
   "outputs": [
    {
     "data": {
      "text/plain": [
       "array([99,  1,  2,  3,  4,  5,  6,  7,  8,  9])"
      ]
     },
     "execution_count": 163,
     "metadata": {
      "tags": []
     },
     "output_type": "execute_result"
    }
   ],
   "source": [
    "a"
   ]
  },
  {
   "cell_type": "code",
   "execution_count": 164,
   "metadata": {
    "colab": {
     "base_uri": "https://localhost:8080/",
     "height": 34
    },
    "colab_type": "code",
    "executionInfo": {
     "elapsed": 699,
     "status": "ok",
     "timestamp": 1536984199005,
     "user": {
      "displayName": "Songchai Duangpan",
      "photoUrl": "//lh4.googleusercontent.com/-85FetaNKwP0/AAAAAAAAAAI/AAAAAAAAAFo/HA-N0eFY9RY/s50-c-k-no/photo.jpg",
      "userId": "101210017961167957353"
     },
     "user_tz": -420
    },
    "id": "J_K-ANVfZZiI",
    "outputId": "72bdc50b-19a6-4b15-cd95-465e5ffa37ba"
   },
   "outputs": [
    {
     "data": {
      "text/plain": [
       "array([99,  2,  4,  6,  8])"
      ]
     },
     "execution_count": 164,
     "metadata": {
      "tags": []
     },
     "output_type": "execute_result"
    }
   ],
   "source": [
    "b"
   ]
  },
  {
   "cell_type": "code",
   "execution_count": 165,
   "metadata": {
    "colab": {
     "base_uri": "https://localhost:8080/",
     "height": 34
    },
    "colab_type": "code",
    "executionInfo": {
     "elapsed": 700,
     "status": "ok",
     "timestamp": 1536984275146,
     "user": {
      "displayName": "Songchai Duangpan",
      "photoUrl": "//lh4.googleusercontent.com/-85FetaNKwP0/AAAAAAAAAAI/AAAAAAAAAFo/HA-N0eFY9RY/s50-c-k-no/photo.jpg",
      "userId": "101210017961167957353"
     },
     "user_tz": -420
    },
    "id": "WYxk3wQRZawz",
    "outputId": "2f97a6b3-33eb-41a0-ed2f-4ced4c48cded"
   },
   "outputs": [
    {
     "data": {
      "text/plain": [
       "True"
      ]
     },
     "execution_count": 165,
     "metadata": {
      "tags": []
     },
     "output_type": "execute_result"
    }
   ],
   "source": [
    "np.may_share_memory(a,b)"
   ]
  },
  {
   "cell_type": "code",
   "execution_count": 166,
   "metadata": {
    "colab": {
     "base_uri": "https://localhost:8080/",
     "height": 34
    },
    "colab_type": "code",
    "executionInfo": {
     "elapsed": 734,
     "status": "ok",
     "timestamp": 1536984320085,
     "user": {
      "displayName": "Songchai Duangpan",
      "photoUrl": "//lh4.googleusercontent.com/-85FetaNKwP0/AAAAAAAAAAI/AAAAAAAAAFo/HA-N0eFY9RY/s50-c-k-no/photo.jpg",
      "userId": "101210017961167957353"
     },
     "user_tz": -420
    },
    "id": "g2Ndi5LUZtWj",
    "outputId": "f1e2e9b1-ca65-437e-b9c3-eba78f785a7c"
   },
   "outputs": [
    {
     "data": {
      "text/plain": [
       "array([99,  2,  4,  6,  8])"
      ]
     },
     "execution_count": 166,
     "metadata": {
      "tags": []
     },
     "output_type": "execute_result"
    }
   ],
   "source": [
    "c = a [::2].copy()\n",
    "c"
   ]
  },
  {
   "cell_type": "code",
   "execution_count": 167,
   "metadata": {
    "colab": {
     "base_uri": "https://localhost:8080/",
     "height": 34
    },
    "colab_type": "code",
    "executionInfo": {
     "elapsed": 693,
     "status": "ok",
     "timestamp": 1536984341696,
     "user": {
      "displayName": "Songchai Duangpan",
      "photoUrl": "//lh4.googleusercontent.com/-85FetaNKwP0/AAAAAAAAAAI/AAAAAAAAAFo/HA-N0eFY9RY/s50-c-k-no/photo.jpg",
      "userId": "101210017961167957353"
     },
     "user_tz": -420
    },
    "id": "oQ708ee_Z4UC",
    "outputId": "23030990-16cb-4f9a-d721-2e22f33b499f"
   },
   "outputs": [
    {
     "data": {
      "text/plain": [
       "False"
      ]
     },
     "execution_count": 167,
     "metadata": {
      "tags": []
     },
     "output_type": "execute_result"
    }
   ],
   "source": [
    "np.may_share_memory(a,c)"
   ]
  },
  {
   "cell_type": "code",
   "execution_count": 168,
   "metadata": {
    "colab": {
     "base_uri": "https://localhost:8080/",
     "height": 34
    },
    "colab_type": "code",
    "executionInfo": {
     "elapsed": 711,
     "status": "ok",
     "timestamp": 1536984355567,
     "user": {
      "displayName": "Songchai Duangpan",
      "photoUrl": "//lh4.googleusercontent.com/-85FetaNKwP0/AAAAAAAAAAI/AAAAAAAAAFo/HA-N0eFY9RY/s50-c-k-no/photo.jpg",
      "userId": "101210017961167957353"
     },
     "user_tz": -420
    },
    "id": "Ep_yoEEfZ9mT",
    "outputId": "83a68f67-0836-42bc-8aab-7ac43a727c26"
   },
   "outputs": [
    {
     "name": "stdout",
     "output_type": "stream",
     "text": [
      "[99  1  2  3  4  5  6  7  8  9] [1 2 4 6 8]\n"
     ]
    }
   ],
   "source": [
    "c[0] = 1\n",
    "print (a,c)"
   ]
  },
  {
   "cell_type": "code",
   "execution_count": 170,
   "metadata": {
    "colab": {
     "base_uri": "https://localhost:8080/",
     "height": 70
    },
    "colab_type": "code",
    "executionInfo": {
     "elapsed": 951,
     "status": "ok",
     "timestamp": 1536984610528,
     "user": {
      "displayName": "Songchai Duangpan",
      "photoUrl": "//lh4.googleusercontent.com/-85FetaNKwP0/AAAAAAAAAAI/AAAAAAAAAFo/HA-N0eFY9RY/s50-c-k-no/photo.jpg",
      "userId": "101210017961167957353"
     },
     "user_tz": -420
    },
    "id": "vY4N7CoiaA-s",
    "outputId": "df86345a-7084-4a44-d3ca-a6bda6b7ecae"
   },
   "outputs": [
    {
     "data": {
      "text/plain": [
       "array([[0., 1., 1.],\n",
       "       [0., 0., 1.],\n",
       "       [0., 0., 0.]])"
      ]
     },
     "execution_count": 170,
     "metadata": {
      "tags": []
     },
     "output_type": "execute_result"
    }
   ],
   "source": [
    "np.triu(np.ones((3,3)),1)"
   ]
  },
  {
   "cell_type": "code",
   "execution_count": 171,
   "metadata": {
    "colab": {
     "base_uri": "https://localhost:8080/",
     "height": 105
    },
    "colab_type": "code",
    "executionInfo": {
     "elapsed": 720,
     "status": "ok",
     "timestamp": 1536984646265,
     "user": {
      "displayName": "Songchai Duangpan",
      "photoUrl": "//lh4.googleusercontent.com/-85FetaNKwP0/AAAAAAAAAAI/AAAAAAAAAFo/HA-N0eFY9RY/s50-c-k-no/photo.jpg",
      "userId": "101210017961167957353"
     },
     "user_tz": -420
    },
    "id": "4lsO1LmWayM0",
    "outputId": "ff3b5427-d65a-4bbd-b365-1842b199fe0e"
   },
   "outputs": [
    {
     "data": {
      "text/plain": [
       "array([[1., 1., 1., 1., 1.],\n",
       "       [0., 1., 1., 1., 1.],\n",
       "       [0., 0., 1., 1., 1.],\n",
       "       [0., 0., 0., 1., 1.],\n",
       "       [0., 0., 0., 0., 1.]])"
      ]
     },
     "execution_count": 171,
     "metadata": {
      "tags": []
     },
     "output_type": "execute_result"
    }
   ],
   "source": [
    "np.triu(np.ones((5,5)))"
   ]
  },
  {
   "cell_type": "code",
   "execution_count": 0,
   "metadata": {
    "colab": {},
    "colab_type": "code",
    "id": "C7Lq0kwTbH8x"
   },
   "outputs": [],
   "source": [
    "a = np.ones((5,5))\n",
    "b = np.triu(a)"
   ]
  },
  {
   "cell_type": "code",
   "execution_count": 174,
   "metadata": {
    "colab": {
     "base_uri": "https://localhost:8080/",
     "height": 34
    },
    "colab_type": "code",
    "executionInfo": {
     "elapsed": 935,
     "status": "ok",
     "timestamp": 1536984751826,
     "user": {
      "displayName": "Songchai Duangpan",
      "photoUrl": "//lh4.googleusercontent.com/-85FetaNKwP0/AAAAAAAAAAI/AAAAAAAAAFo/HA-N0eFY9RY/s50-c-k-no/photo.jpg",
      "userId": "101210017961167957353"
     },
     "user_tz": -420
    },
    "id": "UVPqj7NlbRJz",
    "outputId": "3bb9a1ff-cbd2-492c-bd2d-afe61904e991"
   },
   "outputs": [
    {
     "data": {
      "text/plain": [
       "False"
      ]
     },
     "execution_count": 174,
     "metadata": {
      "tags": []
     },
     "output_type": "execute_result"
    }
   ],
   "source": [
    "np.may_share_memory(a,b)"
   ]
  },
  {
   "cell_type": "code",
   "execution_count": 175,
   "metadata": {
    "colab": {
     "base_uri": "https://localhost:8080/",
     "height": 105
    },
    "colab_type": "code",
    "executionInfo": {
     "elapsed": 881,
     "status": "ok",
     "timestamp": 1536984755916,
     "user": {
      "displayName": "Songchai Duangpan",
      "photoUrl": "//lh4.googleusercontent.com/-85FetaNKwP0/AAAAAAAAAAI/AAAAAAAAAFo/HA-N0eFY9RY/s50-c-k-no/photo.jpg",
      "userId": "101210017961167957353"
     },
     "user_tz": -420
    },
    "id": "nQY-vMQJbhq2",
    "outputId": "841dea15-c47e-41d7-d026-77591266804a"
   },
   "outputs": [
    {
     "data": {
      "text/plain": [
       "array([[1., 1., 1., 1., 1.],\n",
       "       [0., 1., 1., 1., 1.],\n",
       "       [0., 0., 1., 1., 1.],\n",
       "       [0., 0., 0., 1., 1.],\n",
       "       [0., 0., 0., 0., 1.]])"
      ]
     },
     "execution_count": 175,
     "metadata": {
      "tags": []
     },
     "output_type": "execute_result"
    }
   ],
   "source": [
    "b"
   ]
  },
  {
   "cell_type": "code",
   "execution_count": 0,
   "metadata": {
    "colab": {},
    "colab_type": "code",
    "id": "7EQs-ifMbirg"
   },
   "outputs": [],
   "source": [
    "c =b.T"
   ]
  },
  {
   "cell_type": "code",
   "execution_count": 177,
   "metadata": {
    "colab": {
     "base_uri": "https://localhost:8080/",
     "height": 105
    },
    "colab_type": "code",
    "executionInfo": {
     "elapsed": 871,
     "status": "ok",
     "timestamp": 1536984771250,
     "user": {
      "displayName": "Songchai Duangpan",
      "photoUrl": "//lh4.googleusercontent.com/-85FetaNKwP0/AAAAAAAAAAI/AAAAAAAAAFo/HA-N0eFY9RY/s50-c-k-no/photo.jpg",
      "userId": "101210017961167957353"
     },
     "user_tz": -420
    },
    "id": "VQJ5FpB0bliy",
    "outputId": "14c65d5f-8510-4858-a56d-966825bb5be7"
   },
   "outputs": [
    {
     "data": {
      "text/plain": [
       "array([[1., 0., 0., 0., 0.],\n",
       "       [1., 1., 0., 0., 0.],\n",
       "       [1., 1., 1., 0., 0.],\n",
       "       [1., 1., 1., 1., 0.],\n",
       "       [1., 1., 1., 1., 1.]])"
      ]
     },
     "execution_count": 177,
     "metadata": {
      "tags": []
     },
     "output_type": "execute_result"
    }
   ],
   "source": [
    "c"
   ]
  },
  {
   "cell_type": "code",
   "execution_count": 178,
   "metadata": {
    "colab": {
     "base_uri": "https://localhost:8080/",
     "height": 34
    },
    "colab_type": "code",
    "executionInfo": {
     "elapsed": 730,
     "status": "ok",
     "timestamp": 1536984791122,
     "user": {
      "displayName": "Songchai Duangpan",
      "photoUrl": "//lh4.googleusercontent.com/-85FetaNKwP0/AAAAAAAAAAI/AAAAAAAAAFo/HA-N0eFY9RY/s50-c-k-no/photo.jpg",
      "userId": "101210017961167957353"
     },
     "user_tz": -420
    },
    "id": "DyUaLIFGbmbT",
    "outputId": "b2629602-f25e-4dd3-c1f1-08686a1a2d75"
   },
   "outputs": [
    {
     "data": {
      "text/plain": [
       "True"
      ]
     },
     "execution_count": 178,
     "metadata": {
      "tags": []
     },
     "output_type": "execute_result"
    }
   ],
   "source": [
    "np.may_share_memory(c,b)"
   ]
  },
  {
   "cell_type": "code",
   "execution_count": 180,
   "metadata": {
    "colab": {
     "base_uri": "https://localhost:8080/",
     "height": 52
    },
    "colab_type": "code",
    "executionInfo": {
     "elapsed": 947,
     "status": "ok",
     "timestamp": 1536985151685,
     "user": {
      "displayName": "Songchai Duangpan",
      "photoUrl": "//lh4.googleusercontent.com/-85FetaNKwP0/AAAAAAAAAAI/AAAAAAAAAFo/HA-N0eFY9RY/s50-c-k-no/photo.jpg",
      "userId": "101210017961167957353"
     },
     "user_tz": -420
    },
    "id": "bDuhvUAObrUJ",
    "outputId": "986dbba9-482d-4701-dc49-580bbd4bcde4"
   },
   "outputs": [
    {
     "data": {
      "text/plain": [
       "array([[1, 2],\n",
       "       [3, 4]])"
      ]
     },
     "execution_count": 180,
     "metadata": {
      "tags": []
     },
     "output_type": "execute_result"
    }
   ],
   "source": [
    "M = np.array([[1,2],[3,4]])\n",
    "M"
   ]
  },
  {
   "cell_type": "code",
   "execution_count": 182,
   "metadata": {
    "colab": {
     "base_uri": "https://localhost:8080/",
     "height": 34
    },
    "colab_type": "code",
    "executionInfo": {
     "elapsed": 772,
     "status": "ok",
     "timestamp": 1536985176249,
     "user": {
      "displayName": "Songchai Duangpan",
      "photoUrl": "//lh4.googleusercontent.com/-85FetaNKwP0/AAAAAAAAAAI/AAAAAAAAAFo/HA-N0eFY9RY/s50-c-k-no/photo.jpg",
      "userId": "101210017961167957353"
     },
     "user_tz": -420
    },
    "id": "7WQ2jgtwdB18",
    "outputId": "d94d9965-c1fc-4a8d-ae92-71762821f826"
   },
   "outputs": [
    {
     "data": {
      "text/plain": [
       "10"
      ]
     },
     "execution_count": 182,
     "metadata": {
      "tags": []
     },
     "output_type": "execute_result"
    }
   ],
   "source": [
    "M.sum()"
   ]
  },
  {
   "cell_type": "code",
   "execution_count": 183,
   "metadata": {
    "colab": {
     "base_uri": "https://localhost:8080/",
     "height": 34
    },
    "colab_type": "code",
    "executionInfo": {
     "elapsed": 733,
     "status": "ok",
     "timestamp": 1536985227324,
     "user": {
      "displayName": "Songchai Duangpan",
      "photoUrl": "//lh4.googleusercontent.com/-85FetaNKwP0/AAAAAAAAAAI/AAAAAAAAAFo/HA-N0eFY9RY/s50-c-k-no/photo.jpg",
      "userId": "101210017961167957353"
     },
     "user_tz": -420
    },
    "id": "vtD2nO3HdF_P",
    "outputId": "3709b982-a9db-47d9-a557-c253d2992d4e"
   },
   "outputs": [
    {
     "data": {
      "text/plain": [
       "(10, array([4, 6]), array([3, 7]))"
      ]
     },
     "execution_count": 183,
     "metadata": {
      "tags": []
     },
     "output_type": "execute_result"
    }
   ],
   "source": [
    "M.sum(), M.sum(axis = 0), M.sum(axis =1)"
   ]
  },
  {
   "cell_type": "code",
   "execution_count": 186,
   "metadata": {
    "colab": {
     "base_uri": "https://localhost:8080/",
     "height": 34
    },
    "colab_type": "code",
    "executionInfo": {
     "elapsed": 769,
     "status": "ok",
     "timestamp": 1536985359501,
     "user": {
      "displayName": "Songchai Duangpan",
      "photoUrl": "//lh4.googleusercontent.com/-85FetaNKwP0/AAAAAAAAAAI/AAAAAAAAAFo/HA-N0eFY9RY/s50-c-k-no/photo.jpg",
      "userId": "101210017961167957353"
     },
     "user_tz": -420
    },
    "id": "vDlMbh3cdVzk",
    "outputId": "d1f40dd6-8052-4770-f861-2b1f65a3de87"
   },
   "outputs": [
    {
     "data": {
      "text/plain": [
       "(4, 3)"
      ]
     },
     "execution_count": 186,
     "metadata": {
      "tags": []
     },
     "output_type": "execute_result"
    }
   ],
   "source": [
    "M [:,0].sum(), M[0,:].sum()"
   ]
  },
  {
   "cell_type": "code",
   "execution_count": 188,
   "metadata": {
    "colab": {
     "base_uri": "https://localhost:8080/",
     "height": 105
    },
    "colab_type": "code",
    "executionInfo": {
     "elapsed": 864,
     "status": "ok",
     "timestamp": 1536985519739,
     "user": {
      "displayName": "Songchai Duangpan",
      "photoUrl": "//lh4.googleusercontent.com/-85FetaNKwP0/AAAAAAAAAAI/AAAAAAAAAFo/HA-N0eFY9RY/s50-c-k-no/photo.jpg",
      "userId": "101210017961167957353"
     },
     "user_tz": -420
    },
    "id": "fA1fDoRedfps",
    "outputId": "f1444b15-87da-4783-9b3a-ec7ac797bb1e"
   },
   "outputs": [
    {
     "data": {
      "text/plain": [
       "array([[[0, 1],\n",
       "        [2, 3]],\n",
       "\n",
       "       [[4, 5],\n",
       "        [6, 7]]])"
      ]
     },
     "execution_count": 188,
     "metadata": {
      "tags": []
     },
     "output_type": "execute_result"
    }
   ],
   "source": [
    "M = np.arange(8).reshape(2,2,2)\n",
    "M"
   ]
  },
  {
   "cell_type": "code",
   "execution_count": 190,
   "metadata": {
    "colab": {
     "base_uri": "https://localhost:8080/",
     "height": 52
    },
    "colab_type": "code",
    "executionInfo": {
     "elapsed": 1000,
     "status": "ok",
     "timestamp": 1536985550168,
     "user": {
      "displayName": "Songchai Duangpan",
      "photoUrl": "//lh4.googleusercontent.com/-85FetaNKwP0/AAAAAAAAAAI/AAAAAAAAAFo/HA-N0eFY9RY/s50-c-k-no/photo.jpg",
      "userId": "101210017961167957353"
     },
     "user_tz": -420
    },
    "id": "tg7zc2DjeZm7",
    "outputId": "91b15dc1-2a76-4e9a-f6f1-b53adb6fe96c"
   },
   "outputs": [
    {
     "data": {
      "text/plain": [
       "array([[ 4,  6],\n",
       "       [ 8, 10]])"
      ]
     },
     "execution_count": 190,
     "metadata": {
      "tags": []
     },
     "output_type": "execute_result"
    }
   ],
   "source": [
    "M.sum(axis = 0)"
   ]
  },
  {
   "cell_type": "code",
   "execution_count": 191,
   "metadata": {
    "colab": {
     "base_uri": "https://localhost:8080/",
     "height": 52
    },
    "colab_type": "code",
    "executionInfo": {
     "elapsed": 876,
     "status": "ok",
     "timestamp": 1536985650734,
     "user": {
      "displayName": "Songchai Duangpan",
      "photoUrl": "//lh4.googleusercontent.com/-85FetaNKwP0/AAAAAAAAAAI/AAAAAAAAAFo/HA-N0eFY9RY/s50-c-k-no/photo.jpg",
      "userId": "101210017961167957353"
     },
     "user_tz": -420
    },
    "id": "m3lg2IVqeiaD",
    "outputId": "7b6c7868-cf08-438d-c53e-8c9a55a715a4"
   },
   "outputs": [
    {
     "data": {
      "text/plain": [
       "array([[ 2,  4],\n",
       "       [10, 12]])"
      ]
     },
     "execution_count": 191,
     "metadata": {
      "tags": []
     },
     "output_type": "execute_result"
    }
   ],
   "source": [
    "M.sum(axis = 1)"
   ]
  },
  {
   "cell_type": "code",
   "execution_count": 192,
   "metadata": {
    "colab": {
     "base_uri": "https://localhost:8080/",
     "height": 52
    },
    "colab_type": "code",
    "executionInfo": {
     "elapsed": 763,
     "status": "ok",
     "timestamp": 1536985657648,
     "user": {
      "displayName": "Songchai Duangpan",
      "photoUrl": "//lh4.googleusercontent.com/-85FetaNKwP0/AAAAAAAAAAI/AAAAAAAAAFo/HA-N0eFY9RY/s50-c-k-no/photo.jpg",
      "userId": "101210017961167957353"
     },
     "user_tz": -420
    },
    "id": "Y0TClcUbe9JM",
    "outputId": "f56e8182-c5b6-426f-8e1f-931935dae2f3"
   },
   "outputs": [
    {
     "data": {
      "text/plain": [
       "array([[ 1,  5],\n",
       "       [ 9, 13]])"
      ]
     },
     "execution_count": 192,
     "metadata": {
      "tags": []
     },
     "output_type": "execute_result"
    }
   ],
   "source": [
    "M.sum(axis = 2)"
   ]
  },
  {
   "cell_type": "code",
   "execution_count": 195,
   "metadata": {
    "colab": {
     "base_uri": "https://localhost:8080/",
     "height": 34
    },
    "colab_type": "code",
    "executionInfo": {
     "elapsed": 857,
     "status": "ok",
     "timestamp": 1536985895475,
     "user": {
      "displayName": "Songchai Duangpan",
      "photoUrl": "//lh4.googleusercontent.com/-85FetaNKwP0/AAAAAAAAAAI/AAAAAAAAAFo/HA-N0eFY9RY/s50-c-k-no/photo.jpg",
      "userId": "101210017961167957353"
     },
     "user_tz": -420
    },
    "id": "f8vrwXSAe-24",
    "outputId": "ac6212b2-375b-4819-c0e3-fa40e03fa766"
   },
   "outputs": [
    {
     "data": {
      "text/plain": [
       "9"
      ]
     },
     "execution_count": 195,
     "metadata": {
      "tags": []
     },
     "output_type": "execute_result"
    }
   ],
   "source": [
    "M[1,0,:].sum()"
   ]
  },
  {
   "cell_type": "code",
   "execution_count": 0,
   "metadata": {
    "colab": {},
    "colab_type": "code",
    "id": "ClKXk2HAfYkC"
   },
   "outputs": [],
   "source": [
    "x = np.array([1,2,3,1])"
   ]
  },
  {
   "cell_type": "code",
   "execution_count": 197,
   "metadata": {
    "colab": {
     "base_uri": "https://localhost:8080/",
     "height": 34
    },
    "colab_type": "code",
    "executionInfo": {
     "elapsed": 698,
     "status": "ok",
     "timestamp": 1536986004536,
     "user": {
      "displayName": "Songchai Duangpan",
      "photoUrl": "//lh4.googleusercontent.com/-85FetaNKwP0/AAAAAAAAAAI/AAAAAAAAAFo/HA-N0eFY9RY/s50-c-k-no/photo.jpg",
      "userId": "101210017961167957353"
     },
     "user_tz": -420
    },
    "id": "QvKBw6OSgIFn",
    "outputId": "f9fdf1f1-4d35-4d24-89c5-8fd979ec73a9"
   },
   "outputs": [
    {
     "data": {
      "text/plain": [
       "(1, 3, 0, 2)"
      ]
     },
     "execution_count": 197,
     "metadata": {
      "tags": []
     },
     "output_type": "execute_result"
    }
   ],
   "source": [
    "x.min(), x.max(), x.argmin(), x.argmax()"
   ]
  },
  {
   "cell_type": "code",
   "execution_count": 198,
   "metadata": {
    "colab": {
     "base_uri": "https://localhost:8080/",
     "height": 34
    },
    "colab_type": "code",
    "executionInfo": {
     "elapsed": 708,
     "status": "ok",
     "timestamp": 1536986114809,
     "user": {
      "displayName": "Songchai Duangpan",
      "photoUrl": "//lh4.googleusercontent.com/-85FetaNKwP0/AAAAAAAAAAI/AAAAAAAAAFo/HA-N0eFY9RY/s50-c-k-no/photo.jpg",
      "userId": "101210017961167957353"
     },
     "user_tz": -420
    },
    "id": "KlNLIkXagTj0",
    "outputId": "53b28286-b893-48bd-c4d7-95713547c3b9"
   },
   "outputs": [
    {
     "data": {
      "text/plain": [
       "(1.75, 1.5, 0.82915619758885)"
      ]
     },
     "execution_count": 198,
     "metadata": {
      "tags": []
     },
     "output_type": "execute_result"
    }
   ],
   "source": [
    "x.mean(), np.median(x), x.std()"
   ]
  },
  {
   "cell_type": "code",
   "execution_count": 0,
   "metadata": {
    "colab": {},
    "colab_type": "code",
    "id": "HZgOOGDDi97W"
   },
   "outputs": [],
   "source": [
    "from google.colab import drive"
   ]
  },
  {
   "cell_type": "code",
   "execution_count": 0,
   "metadata": {
    "colab": {},
    "colab_type": "code",
    "id": "OdPkPRJ_knAy"
   },
   "outputs": [],
   "source": [
    "from google.colab import files"
   ]
  },
  {
   "cell_type": "code",
   "execution_count": 0,
   "metadata": {
    "colab": {},
    "colab_type": "code",
    "id": "1UcBP2TOlL_G"
   },
   "outputs": [],
   "source": [
    "uploaded = files.upload()"
   ]
  },
  {
   "cell_type": "code",
   "execution_count": 0,
   "metadata": {
    "colab": {},
    "colab_type": "code",
    "id": "3FR7NjIGlO7E"
   },
   "outputs": [],
   "source": [
    "data = np.genfromtxt('populations.txt')"
   ]
  },
  {
   "cell_type": "code",
   "execution_count": 212,
   "metadata": {
    "colab": {
     "base_uri": "https://localhost:8080/",
     "height": 374
    },
    "colab_type": "code",
    "executionInfo": {
     "elapsed": 875,
     "status": "ok",
     "timestamp": 1536992480683,
     "user": {
      "displayName": "Songchai Duangpan",
      "photoUrl": "//lh4.googleusercontent.com/-85FetaNKwP0/AAAAAAAAAAI/AAAAAAAAAFo/HA-N0eFY9RY/s50-c-k-no/photo.jpg",
      "userId": "101210017961167957353"
     },
     "user_tz": -420
    },
    "id": "iJDXb175lYv3",
    "outputId": "0ea5b8ba-bb62-4e37-f2c6-39353296688c"
   },
   "outputs": [
    {
     "data": {
      "text/plain": [
       "array([[ 1900., 30000.,  4000., 48300.],\n",
       "       [ 1901., 47200.,  6100., 48200.],\n",
       "       [ 1902., 70200.,  9800., 41500.],\n",
       "       [ 1903., 77400., 35200., 38200.],\n",
       "       [ 1904., 36300., 59400., 40600.],\n",
       "       [ 1905., 20600., 41700., 39800.],\n",
       "       [ 1906., 18100., 19000., 38600.],\n",
       "       [ 1907., 21400., 13000., 42300.],\n",
       "       [ 1908., 22000.,  8300., 44500.],\n",
       "       [ 1909., 25400.,  9100., 42100.],\n",
       "       [ 1910., 27100.,  7400., 46000.],\n",
       "       [ 1911., 40300.,  8000., 46800.],\n",
       "       [ 1912., 57000., 12300., 43800.],\n",
       "       [ 1913., 76600., 19500., 40900.],\n",
       "       [ 1914., 52300., 45700., 39400.],\n",
       "       [ 1915., 19500., 51100., 39000.],\n",
       "       [ 1916., 11200., 29700., 36700.],\n",
       "       [ 1917.,  7600., 15800., 41800.],\n",
       "       [ 1918., 14600.,  9700., 43300.],\n",
       "       [ 1919., 16200., 10100., 41300.],\n",
       "       [ 1920., 24700.,  8600., 47300.]])"
      ]
     },
     "execution_count": 212,
     "metadata": {
      "tags": []
     },
     "output_type": "execute_result"
    }
   ],
   "source": [
    "data"
   ]
  },
  {
   "cell_type": "code",
   "execution_count": 0,
   "metadata": {
    "colab": {},
    "colab_type": "code",
    "id": "SgWdkA0BlaMu"
   },
   "outputs": [],
   "source": [
    ""
   ]
  }
 ],
 "metadata": {
  "colab": {
   "collapsed_sections": [],
   "name": "Numpy.ipynb",
   "provenance": [],
   "version": "0.3.2"
  },
  "kernelspec": {
   "display_name": "Python 3",
   "name": "python3"
  }
 },
 "nbformat": 4,
 "nbformat_minor": 0
}
