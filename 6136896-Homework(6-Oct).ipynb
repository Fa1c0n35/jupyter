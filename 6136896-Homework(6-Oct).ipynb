{
 "cells": [
  {
   "cell_type": "markdown",
   "metadata": {},
   "source": [
    "### Songchai Duangpan ID : 6136896 "
   ]
  },
  {
   "cell_type": "code",
   "execution_count": 21,
   "metadata": {},
   "outputs": [],
   "source": [
    "import pandas as pd\n",
    "import numpy as np\n",
    "from scipy.spatial.distance import cosine"
   ]
  },
  {
   "cell_type": "code",
   "execution_count": 22,
   "metadata": {
    "scrolled": true
   },
   "outputs": [],
   "source": [
    "df = pd.read_csv(\"Data06-Oct.csv\")"
   ]
  },
  {
   "cell_type": "code",
   "execution_count": 23,
   "metadata": {},
   "outputs": [],
   "source": [
    "#ตัด column O ออก เพราะจะทำ item-based collaborative filtering\n",
    "items = df.drop('O',1)"
   ]
  },
  {
   "cell_type": "code",
   "execution_count": 24,
   "metadata": {},
   "outputs": [],
   "source": [
    "data_ibs = pd.DataFrame(index=items.columns,columns=items.columns)"
   ]
  },
  {
   "cell_type": "code",
   "execution_count": 25,
   "metadata": {},
   "outputs": [],
   "source": [
    "#คำนวนหาค่า cosine similarity\n",
    "for i in range (0, len(data_ibs.columns)):\n",
    "    for j in range (0, len(data_ibs.columns)):\n",
    "        data_ibs.iloc[i,j] = 1-cosine(items.iloc[:,i],items.iloc[:,j])"
   ]
  },
  {
   "cell_type": "code",
   "execution_count": 26,
   "metadata": {
    "scrolled": true
   },
   "outputs": [
    {
     "data": {
      "text/html": [
       "<div>\n",
       "<style scoped>\n",
       "    .dataframe tbody tr th:only-of-type {\n",
       "        vertical-align: middle;\n",
       "    }\n",
       "\n",
       "    .dataframe tbody tr th {\n",
       "        vertical-align: top;\n",
       "    }\n",
       "\n",
       "    .dataframe thead th {\n",
       "        text-align: right;\n",
       "    }\n",
       "</style>\n",
       "<table border=\"1\" class=\"dataframe\">\n",
       "  <thead>\n",
       "    <tr style=\"text-align: right;\">\n",
       "      <th></th>\n",
       "      <th>U1</th>\n",
       "      <th>U2</th>\n",
       "      <th>U3</th>\n",
       "      <th>U4</th>\n",
       "      <th>U5</th>\n",
       "      <th>U6</th>\n",
       "      <th>U7</th>\n",
       "      <th>U8</th>\n",
       "    </tr>\n",
       "  </thead>\n",
       "  <tbody>\n",
       "    <tr>\n",
       "      <th>U1</th>\n",
       "      <td>1</td>\n",
       "      <td>0.540393</td>\n",
       "      <td>0.878426</td>\n",
       "      <td>0.648736</td>\n",
       "      <td>0.624716</td>\n",
       "      <td>0.802569</td>\n",
       "      <td>0.894823</td>\n",
       "      <td>0.924628</td>\n",
       "    </tr>\n",
       "    <tr>\n",
       "      <th>U2</th>\n",
       "      <td>0.540393</td>\n",
       "      <td>1</td>\n",
       "      <td>0.519197</td>\n",
       "      <td>0.891961</td>\n",
       "      <td>0.391652</td>\n",
       "      <td>0.7788</td>\n",
       "      <td>0.530192</td>\n",
       "      <td>0.371413</td>\n",
       "    </tr>\n",
       "    <tr>\n",
       "      <th>U3</th>\n",
       "      <td>0.878426</td>\n",
       "      <td>0.519197</td>\n",
       "      <td>1</td>\n",
       "      <td>0.561768</td>\n",
       "      <td>0.305329</td>\n",
       "      <td>0.571946</td>\n",
       "      <td>0.80947</td>\n",
       "      <td>0.825417</td>\n",
       "    </tr>\n",
       "    <tr>\n",
       "      <th>U4</th>\n",
       "      <td>0.648736</td>\n",
       "      <td>0.891961</td>\n",
       "      <td>0.561768</td>\n",
       "      <td>1</td>\n",
       "      <td>0.560093</td>\n",
       "      <td>0.832577</td>\n",
       "      <td>0.766622</td>\n",
       "      <td>0.563517</td>\n",
       "    </tr>\n",
       "    <tr>\n",
       "      <th>U5</th>\n",
       "      <td>0.624716</td>\n",
       "      <td>0.391652</td>\n",
       "      <td>0.305329</td>\n",
       "      <td>0.560093</td>\n",
       "      <td>1</td>\n",
       "      <td>0.745044</td>\n",
       "      <td>0.5547</td>\n",
       "      <td>0.560241</td>\n",
       "    </tr>\n",
       "    <tr>\n",
       "      <th>U6</th>\n",
       "      <td>0.802569</td>\n",
       "      <td>0.7788</td>\n",
       "      <td>0.571946</td>\n",
       "      <td>0.832577</td>\n",
       "      <td>0.745044</td>\n",
       "      <td>1</td>\n",
       "      <td>0.724899</td>\n",
       "      <td>0.717939</td>\n",
       "    </tr>\n",
       "    <tr>\n",
       "      <th>U7</th>\n",
       "      <td>0.894823</td>\n",
       "      <td>0.530192</td>\n",
       "      <td>0.80947</td>\n",
       "      <td>0.766622</td>\n",
       "      <td>0.5547</td>\n",
       "      <td>0.724899</td>\n",
       "      <td>1</td>\n",
       "      <td>0.910446</td>\n",
       "    </tr>\n",
       "    <tr>\n",
       "      <th>U8</th>\n",
       "      <td>0.924628</td>\n",
       "      <td>0.371413</td>\n",
       "      <td>0.825417</td>\n",
       "      <td>0.563517</td>\n",
       "      <td>0.560241</td>\n",
       "      <td>0.717939</td>\n",
       "      <td>0.910446</td>\n",
       "      <td>1</td>\n",
       "    </tr>\n",
       "  </tbody>\n",
       "</table>\n",
       "</div>"
      ],
      "text/plain": [
       "          U1        U2        U3        U4        U5        U6        U7  \\\n",
       "U1         1  0.540393  0.878426  0.648736  0.624716  0.802569  0.894823   \n",
       "U2  0.540393         1  0.519197  0.891961  0.391652    0.7788  0.530192   \n",
       "U3  0.878426  0.519197         1  0.561768  0.305329  0.571946   0.80947   \n",
       "U4  0.648736  0.891961  0.561768         1  0.560093  0.832577  0.766622   \n",
       "U5  0.624716  0.391652  0.305329  0.560093         1  0.745044    0.5547   \n",
       "U6  0.802569    0.7788  0.571946  0.832577  0.745044         1  0.724899   \n",
       "U7  0.894823  0.530192   0.80947  0.766622    0.5547  0.724899         1   \n",
       "U8  0.924628  0.371413  0.825417  0.563517  0.560241  0.717939  0.910446   \n",
       "\n",
       "          U8  \n",
       "U1  0.924628  \n",
       "U2  0.371413  \n",
       "U3  0.825417  \n",
       "U4  0.563517  \n",
       "U5  0.560241  \n",
       "U6  0.717939  \n",
       "U7  0.910446  \n",
       "U8         1  "
      ]
     },
     "execution_count": 26,
     "metadata": {},
     "output_type": "execute_result"
    }
   ],
   "source": [
    "data_ibs"
   ]
  },
  {
   "cell_type": "code",
   "execution_count": null,
   "metadata": {},
   "outputs": [],
   "source": []
  },
  {
   "cell_type": "code",
   "execution_count": 77,
   "metadata": {},
   "outputs": [
    {
     "name": "stdout",
     "output_type": "stream",
     "text": [
      "U1           1\n",
      "U8    0.924628\n",
      "U7    0.894823\n",
      "Name: U1, dtype: object\n"
     ]
    }
   ],
   "source": [
    "U1 = data_ibs['U1'].sort_values(ascending=False)\n",
    "print(U1.head(n=3))"
   ]
  },
  {
   "cell_type": "code",
   "execution_count": 63,
   "metadata": {},
   "outputs": [
    {
     "name": "stdout",
     "output_type": "stream",
     "text": [
      "U2           1\n",
      "U4    0.891961\n",
      "U6      0.7788\n",
      "Name: U2, dtype: object\n"
     ]
    }
   ],
   "source": [
    "U2 = data_ibs['U2'].sort_values(ascending=False)\n",
    "print(U2.head(n=3))"
   ]
  },
  {
   "cell_type": "code",
   "execution_count": 65,
   "metadata": {},
   "outputs": [
    {
     "name": "stdout",
     "output_type": "stream",
     "text": [
      "U3           1\n",
      "U1    0.878426\n",
      "U8    0.825417\n",
      "Name: U3, dtype: object\n"
     ]
    }
   ],
   "source": [
    "U3 = data_ibs['U3'].sort_values(ascending=False)\n",
    "print(U3.head(n=3))"
   ]
  },
  {
   "cell_type": "code",
   "execution_count": 67,
   "metadata": {},
   "outputs": [
    {
     "name": "stdout",
     "output_type": "stream",
     "text": [
      "U3           1\n",
      "U1    0.878426\n",
      "U8    0.825417\n",
      "Name: U3, dtype: object\n"
     ]
    }
   ],
   "source": [
    "U4 = data_ibs['U4'].sort_values(ascending=False)\n",
    "print(U3.head(n=3))"
   ]
  },
  {
   "cell_type": "code",
   "execution_count": 68,
   "metadata": {},
   "outputs": [
    {
     "name": "stdout",
     "output_type": "stream",
     "text": [
      "U5           1\n",
      "U6    0.745044\n",
      "U1    0.624716\n",
      "Name: U5, dtype: object\n"
     ]
    }
   ],
   "source": [
    "U5 = data_ibs['U5'].sort_values(ascending=False)\n",
    "print(U5.head(n=3))"
   ]
  },
  {
   "cell_type": "code",
   "execution_count": 76,
   "metadata": {},
   "outputs": [
    {
     "name": "stdout",
     "output_type": "stream",
     "text": [
      "U6           1\n",
      "U4    0.832577\n",
      "U1    0.802569\n",
      "Name: U6, dtype: object\n"
     ]
    }
   ],
   "source": [
    "U6 = data_ibs['U6'].sort_values(ascending=False)\n",
    "print(U6.head(n=3))"
   ]
  },
  {
   "cell_type": "code",
   "execution_count": 75,
   "metadata": {},
   "outputs": [
    {
     "name": "stdout",
     "output_type": "stream",
     "text": [
      "U7           1\n",
      "U8    0.910446\n",
      "U1    0.894823\n",
      "Name: U7, dtype: object\n"
     ]
    }
   ],
   "source": [
    "U7 = data_ibs['U7'].sort_values(ascending=False)\n",
    "print(U7.head(n=3))"
   ]
  },
  {
   "cell_type": "code",
   "execution_count": 72,
   "metadata": {},
   "outputs": [
    {
     "name": "stdout",
     "output_type": "stream",
     "text": [
      "U8           1\n",
      "U1    0.924628\n",
      "U7    0.910446\n",
      "Name: U8, dtype: object\n"
     ]
    }
   ],
   "source": [
    "U8 = data_ibs['U8'].sort_values(ascending=False)\n",
    "print(U8.head(n=3))"
   ]
  },
  {
   "cell_type": "code",
   "execution_count": null,
   "metadata": {},
   "outputs": [],
   "source": []
  }
 ],
 "metadata": {
  "kernelspec": {
   "display_name": "Python 3",
   "language": "python",
   "name": "python3"
  },
  "language_info": {
   "codemirror_mode": {
    "name": "ipython",
    "version": 3
   },
   "file_extension": ".py",
   "mimetype": "text/x-python",
   "name": "python",
   "nbconvert_exporter": "python",
   "pygments_lexer": "ipython3",
   "version": "3.7.0"
  }
 },
 "nbformat": 4,
 "nbformat_minor": 2
}
