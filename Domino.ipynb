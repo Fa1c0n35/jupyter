{
 "cells": [
  {
   "cell_type": "code",
   "execution_count": 16,
   "metadata": {},
   "outputs": [
    {
     "name": "stdout",
     "output_type": "stream",
     "text": [
      "76455961\n"
     ]
    }
   ],
   "source": [
    "memo = {}\n",
    "\n",
    "\n",
    "def count_tilings_recursive(uncovered):\n",
    "    if len(uncovered) & 1:\n",
    "        return 0\n",
    "    if not uncovered:\n",
    "        return 1\n",
    "    if uncovered not in memo:\n",
    "        i, j = min(uncovered)\n",
    "        memo[uncovered] = count_tilings_recursive(uncovered - {(i, j), (i, j + 1)}) + count_tilings_recursive(uncovered - {(i, j), (i + 1, j)})\n",
    "    return memo[uncovered]\n",
    "\n",
    "\n",
    "def count_tilings(m, n):\n",
    "    return count_tilings_recursive(frozenset((i, j) for i in range(max(m, n)) for j in range(min(m, n))))\n",
    "\n",
    "\n",
    "print(count_tilings(18, 4))"
   ]
  },
  {
   "cell_type": "code",
   "execution_count": 14,
   "metadata": {},
   "outputs": [
    {
     "name": "stdout",
     "output_type": "stream",
     "text": [
      "Count of ways is\n",
      "3\n"
     ]
    }
   ],
   "source": [
    "# Python program to count of ways to place 1 x 4 tiles \n",
    "# on n x 4 grid. \n",
    "  \n",
    "# Returns count of count of ways to place 1 x 4 tiles \n",
    "# on n x 4 grid. \n",
    "def count(n): \n",
    "  \n",
    "    # Create a table to store results of subproblems \n",
    "    # dp[i] stores count of ways for i x 4 grid. \n",
    "    dp = [0 for _ in range(n+1)] \n",
    "  \n",
    "    # Fill the table from d[1] to dp[n] \n",
    "    for i in range(1,n+1): \n",
    "  \n",
    "        # Base cases \n",
    "        if i <= 3: \n",
    "            dp[i] = 1\n",
    "        elif i == 4: \n",
    "            dp[i] = 2\n",
    "        else: \n",
    "            # dp(i-1) : Place first tile horizontally \n",
    "            # dp(n-4) : Place first tile vertically \n",
    "            #           which means 3 more tiles have \n",
    "            #           to be placed vertically. \n",
    "            dp[i] = dp[i-1] + dp[i-4] \n",
    "  \n",
    "    return dp[n] \n",
    "  \n",
    "# Driver code to test above \n",
    "n = 5\n",
    "print (\"Count of ways is\"), \n",
    "print (count(n)) "
   ]
  },
  {
   "cell_type": "code",
   "execution_count": 15,
   "metadata": {},
   "outputs": [
    {
     "ename": "SyntaxError",
     "evalue": "unexpected EOF while parsing (<ipython-input-15-1c4de7e0fd45>, line 1)",
     "output_type": "error",
     "traceback": [
      "\u001b[0;36m  File \u001b[0;32m\"<ipython-input-15-1c4de7e0fd45>\"\u001b[0;36m, line \u001b[0;32m1\u001b[0m\n\u001b[0;31m    lambda A,S=\"0123456\":sum([[i+j for j in S[int(i):]if(i+j in A)+(j+i in A)<1]for i in S],[]\u001b[0m\n\u001b[0m                                                                                              ^\u001b[0m\n\u001b[0;31mSyntaxError\u001b[0m\u001b[0;31m:\u001b[0m unexpected EOF while parsing\n"
     ]
    }
   ],
   "source": [
    "lambda A,S=\"0123456\":sum([[i+j for j in S[int(i):]if(i+j in A)+(j+i in A)<1]for i in S],[]"
   ]
  },
  {
   "cell_type": "code",
   "execution_count": null,
   "metadata": {},
   "outputs": [],
   "source": []
  }
 ],
 "metadata": {
  "kernelspec": {
   "display_name": "Python 3",
   "language": "python",
   "name": "python3"
  },
  "language_info": {
   "codemirror_mode": {
    "name": "ipython",
    "version": 3
   },
   "file_extension": ".py",
   "mimetype": "text/x-python",
   "name": "python",
   "nbconvert_exporter": "python",
   "pygments_lexer": "ipython3",
   "version": "3.7.0"
  }
 },
 "nbformat": 4,
 "nbformat_minor": 2
}
