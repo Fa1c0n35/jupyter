{
 "cells": [
  {
   "cell_type": "markdown",
   "metadata": {
    "collapsed": true
   },
   "source": [
    "### 1. รับค่า Input กำหนดให้\n",
    "##### M = Row\n",
    "##### N = Column\n",
    "\n",
    "### 2. คำนวนหาจำนวน Domino ที่ใช้ในการปูทั้งหมดโดยใช้ Row x Column / 2 (2 คือพื้นที่ของ Domino)\n",
    "$$domino = \\frac{M * N}{2}$$\n",
    "\n",
    "### 3. Print output จำนวน Donimo ทั้งหมดออกมาและใช้ int เพื่อให้เป็นจำนวนเต็ม\n",
    "#### print ('Domino Maximum = ',int(domino))\n"
   ]
  },
  {
   "cell_type": "code",
   "execution_count": 3,
   "metadata": {},
   "outputs": [
    {
     "name": "stdout",
     "output_type": "stream",
     "text": [
      "Row :3\n",
      "Column :3\n",
      "Total Domino Maximum =  4\n"
     ]
    }
   ],
   "source": [
    "M = int(input('Row :'))\n",
    "N = int(input('Column :'))\n",
    "domino = M*N/2\n",
    "print ('Total Domino Maximum = ',int(domino))"
   ]
  },
  {
   "cell_type": "code",
   "execution_count": null,
   "metadata": {},
   "outputs": [],
   "source": []
  }
 ],
 "metadata": {
  "kernelspec": {
   "display_name": "Python 3",
   "language": "python",
   "name": "python3"
  },
  "language_info": {
   "codemirror_mode": {
    "name": "ipython",
    "version": 3
   },
   "file_extension": ".py",
   "mimetype": "text/x-python",
   "name": "python",
   "nbconvert_exporter": "python",
   "pygments_lexer": "ipython3",
   "version": "3.7.0"
  }
 },
 "nbformat": 4,
 "nbformat_minor": 2
}
