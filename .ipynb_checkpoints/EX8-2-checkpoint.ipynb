{
 "cells": [
  {
   "cell_type": "code",
   "execution_count": 36,
   "metadata": {},
   "outputs": [],
   "source": [
    "import pandas as pd\n",
    "from scipy.spatial.distance import cosine"
   ]
  },
  {
   "cell_type": "code",
   "execution_count": 37,
   "metadata": {},
   "outputs": [],
   "source": [
    "df = pd.read_csv(\"dataEx8-2.csv\")"
   ]
  },
  {
   "cell_type": "code",
   "execution_count": 38,
   "metadata": {},
   "outputs": [],
   "source": [
    "#ตัด column O ออก เพราะเราจะทำ item-based collaborative filtering\n",
    "items = df.drop('O',1)"
   ]
  },
  {
   "cell_type": "code",
   "execution_count": 39,
   "metadata": {},
   "outputs": [],
   "source": [
    "#คำนวนหาค่า cosine similarity\n",
    "for i in range (0, len(items.columns)):\n",
    "    for j in range (0, len(items.columns)):\n",
    "        items.iloc[i,j] = 1-cosine(items.iloc[:,i],items.iloc[:,j])"
   ]
  },
  {
   "cell_type": "code",
   "execution_count": 73,
   "metadata": {
    "scrolled": true
   },
   "outputs": [
    {
     "data": {
      "text/html": [
       "<div>\n",
       "<style scoped>\n",
       "    .dataframe tbody tr th:only-of-type {\n",
       "        vertical-align: middle;\n",
       "    }\n",
       "\n",
       "    .dataframe tbody tr th {\n",
       "        vertical-align: top;\n",
       "    }\n",
       "\n",
       "    .dataframe thead th {\n",
       "        text-align: right;\n",
       "    }\n",
       "</style>\n",
       "<table border=\"1\" class=\"dataframe\">\n",
       "  <thead>\n",
       "    <tr style=\"text-align: right;\">\n",
       "      <th></th>\n",
       "      <th>U1</th>\n",
       "      <th>U2</th>\n",
       "      <th>U3</th>\n",
       "      <th>U4</th>\n",
       "      <th>U5</th>\n",
       "      <th>U6</th>\n",
       "      <th>U7</th>\n",
       "      <th>U8</th>\n",
       "    </tr>\n",
       "  </thead>\n",
       "  <tbody>\n",
       "    <tr>\n",
       "      <th>0</th>\n",
       "      <td>1.000000</td>\n",
       "      <td>0.503599</td>\n",
       "      <td>0.753521</td>\n",
       "      <td>0.607098</td>\n",
       "      <td>0.678409</td>\n",
       "      <td>0.871549</td>\n",
       "      <td>0.816997</td>\n",
       "      <td>0.886888</td>\n",
       "    </tr>\n",
       "    <tr>\n",
       "      <th>1</th>\n",
       "      <td>0.495087</td>\n",
       "      <td>1.000000</td>\n",
       "      <td>0.472464</td>\n",
       "      <td>0.828560</td>\n",
       "      <td>0.244900</td>\n",
       "      <td>0.762835</td>\n",
       "      <td>0.453877</td>\n",
       "      <td>0.349264</td>\n",
       "    </tr>\n",
       "    <tr>\n",
       "      <th>2</th>\n",
       "      <td>0.879775</td>\n",
       "      <td>0.464086</td>\n",
       "      <td>1.000000</td>\n",
       "      <td>0.487722</td>\n",
       "      <td>0.382375</td>\n",
       "      <td>0.746508</td>\n",
       "      <td>0.734941</td>\n",
       "      <td>0.835920</td>\n",
       "    </tr>\n",
       "    <tr>\n",
       "      <th>3</th>\n",
       "      <td>0.676756</td>\n",
       "      <td>0.792157</td>\n",
       "      <td>0.483200</td>\n",
       "      <td>1.000000</td>\n",
       "      <td>0.547364</td>\n",
       "      <td>0.897740</td>\n",
       "      <td>0.911922</td>\n",
       "      <td>0.759683</td>\n",
       "    </tr>\n",
       "    <tr>\n",
       "      <th>4</th>\n",
       "      <td>0.503977</td>\n",
       "      <td>0.189376</td>\n",
       "      <td>0.056767</td>\n",
       "      <td>0.635828</td>\n",
       "      <td>1.000000</td>\n",
       "      <td>0.681922</td>\n",
       "      <td>0.735070</td>\n",
       "      <td>0.691878</td>\n",
       "    </tr>\n",
       "    <tr>\n",
       "      <th>5</th>\n",
       "      <td>0.950220</td>\n",
       "      <td>0.837230</td>\n",
       "      <td>0.520022</td>\n",
       "      <td>0.965566</td>\n",
       "      <td>0.685887</td>\n",
       "      <td>1.000000</td>\n",
       "      <td>0.676624</td>\n",
       "      <td>0.680330</td>\n",
       "    </tr>\n",
       "    <tr>\n",
       "      <th>6</th>\n",
       "      <td>0.798838</td>\n",
       "      <td>0.144106</td>\n",
       "      <td>0.297801</td>\n",
       "      <td>0.900497</td>\n",
       "      <td>0.966497</td>\n",
       "      <td>0.738491</td>\n",
       "      <td>1.000000</td>\n",
       "      <td>0.858629</td>\n",
       "    </tr>\n",
       "    <tr>\n",
       "      <th>7</th>\n",
       "      <td>0.705882</td>\n",
       "      <td>0.385681</td>\n",
       "      <td>0.884238</td>\n",
       "      <td>0.676885</td>\n",
       "      <td>0.830121</td>\n",
       "      <td>0.461853</td>\n",
       "      <td>0.992325</td>\n",
       "      <td>1.000000</td>\n",
       "    </tr>\n",
       "  </tbody>\n",
       "</table>\n",
       "</div>"
      ],
      "text/plain": [
       "         U1        U2        U3        U4        U5        U6        U7  \\\n",
       "0  1.000000  0.503599  0.753521  0.607098  0.678409  0.871549  0.816997   \n",
       "1  0.495087  1.000000  0.472464  0.828560  0.244900  0.762835  0.453877   \n",
       "2  0.879775  0.464086  1.000000  0.487722  0.382375  0.746508  0.734941   \n",
       "3  0.676756  0.792157  0.483200  1.000000  0.547364  0.897740  0.911922   \n",
       "4  0.503977  0.189376  0.056767  0.635828  1.000000  0.681922  0.735070   \n",
       "5  0.950220  0.837230  0.520022  0.965566  0.685887  1.000000  0.676624   \n",
       "6  0.798838  0.144106  0.297801  0.900497  0.966497  0.738491  1.000000   \n",
       "7  0.705882  0.385681  0.884238  0.676885  0.830121  0.461853  0.992325   \n",
       "\n",
       "         U8  \n",
       "0  0.886888  \n",
       "1  0.349264  \n",
       "2  0.835920  \n",
       "3  0.759683  \n",
       "4  0.691878  \n",
       "5  0.680330  \n",
       "6  0.858629  \n",
       "7  1.000000  "
      ]
     },
     "execution_count": 73,
     "metadata": {},
     "output_type": "execute_result"
    }
   ],
   "source": [
    "items"
   ]
  },
  {
   "cell_type": "code",
   "execution_count": 77,
   "metadata": {},
   "outputs": [
    {
     "data": {
      "text/plain": [
       "0.05676668200002799"
      ]
     },
     "execution_count": 77,
     "metadata": {},
     "output_type": "execute_result"
    }
   ],
   "source": [
    "items.values.min()"
   ]
  },
  {
   "cell_type": "code",
   "execution_count": 81,
   "metadata": {},
   "outputs": [],
   "source": [
    "#links = items.stack().reset_index()\n",
    "#links.columns = ['edge1', 'edge2','value']"
   ]
  },
  {
   "cell_type": "code",
   "execution_count": 78,
   "metadata": {},
   "outputs": [],
   "source": [
    "#links.sort_values('value', ascending=True)"
   ]
  },
  {
   "cell_type": "code",
   "execution_count": 80,
   "metadata": {
    "scrolled": false
   },
   "outputs": [],
   "source": [
    "#links.value.min()"
   ]
  },
  {
   "cell_type": "code",
   "execution_count": 46,
   "metadata": {},
   "outputs": [],
   "source": [
    "##เลือดเฉพาะที่มากกว่า 0.8"
   ]
  },
  {
   "cell_type": "code",
   "execution_count": 79,
   "metadata": {},
   "outputs": [],
   "source": [
    "#links_filtered=links.loc[ (links['value'] > 0) & (links['edge1'] != links['edge2']) ]\n",
    "#links_filtered"
   ]
  },
  {
   "cell_type": "code",
   "execution_count": null,
   "metadata": {},
   "outputs": [],
   "source": []
  }
 ],
 "metadata": {
  "kernelspec": {
   "display_name": "Python 3",
   "language": "python",
   "name": "python3"
  },
  "language_info": {
   "codemirror_mode": {
    "name": "ipython",
    "version": 3
   },
   "file_extension": ".py",
   "mimetype": "text/x-python",
   "name": "python",
   "nbconvert_exporter": "python",
   "pygments_lexer": "ipython3",
   "version": "3.7.0"
  }
 },
 "nbformat": 4,
 "nbformat_minor": 2
}
